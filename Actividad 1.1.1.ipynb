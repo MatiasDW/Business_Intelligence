{
 "cells": [
  {
   "cell_type": "markdown",
   "id": "c5373fd3-6a2c-4126-b5c6-896b318620f3",
   "metadata": {
    "tags": []
   },
   "source": [
    "# Integrantes:\n",
    "\n",
    "### Joaquín Gomez\n",
    "### Mauricio Gomez\n",
    "### Fabio Lancellotti"
   ]
  },
  {
   "cell_type": "markdown",
   "id": "49ab0a91-647f-4817-988d-eab0438f2785",
   "metadata": {},
   "source": [
    "# Imports"
   ]
  },
  {
   "cell_type": "code",
   "execution_count": 4,
   "id": "caca35b0-3fe0-4200-80e9-b6dfab09967b",
   "metadata": {
    "tags": []
   },
   "outputs": [],
   "source": [
    "import pandas as pd\n",
    "import matplotlib.pyplot as plt\n",
    "import seaborn as sns\n",
    "import numpy as np\n",
    "import statsmodels.formula.api as smf"
   ]
  },
  {
   "cell_type": "code",
   "execution_count": 3,
   "id": "5c4a8296-8b2c-4939-88f3-0ad9f36eada1",
   "metadata": {
    "tags": []
   },
   "outputs": [
    {
     "data": {
      "text/html": [
       "<div>\n",
       "<style scoped>\n",
       "    .dataframe tbody tr th:only-of-type {\n",
       "        vertical-align: middle;\n",
       "    }\n",
       "\n",
       "    .dataframe tbody tr th {\n",
       "        vertical-align: top;\n",
       "    }\n",
       "\n",
       "    .dataframe thead th {\n",
       "        text-align: right;\n",
       "    }\n",
       "</style>\n",
       "<table border=\"1\" class=\"dataframe\">\n",
       "  <thead>\n",
       "    <tr style=\"text-align: right;\">\n",
       "      <th></th>\n",
       "      <th>dir</th>\n",
       "      <th>hir</th>\n",
       "      <th>lvr</th>\n",
       "      <th>ccs</th>\n",
       "      <th>mcs</th>\n",
       "      <th>pbcr</th>\n",
       "      <th>dmi</th>\n",
       "      <th>self</th>\n",
       "      <th>single</th>\n",
       "      <th>uria</th>\n",
       "      <th>comdominiom</th>\n",
       "      <th>black</th>\n",
       "      <th>deny</th>\n",
       "    </tr>\n",
       "  </thead>\n",
       "  <tbody>\n",
       "    <tr>\n",
       "      <th>0</th>\n",
       "      <td>0.221</td>\n",
       "      <td>0.221</td>\n",
       "      <td>0.800000</td>\n",
       "      <td>5.0</td>\n",
       "      <td>2.0</td>\n",
       "      <td>no</td>\n",
       "      <td>no</td>\n",
       "      <td>no</td>\n",
       "      <td>no</td>\n",
       "      <td>3.9</td>\n",
       "      <td>0</td>\n",
       "      <td>no</td>\n",
       "      <td>no</td>\n",
       "    </tr>\n",
       "    <tr>\n",
       "      <th>1</th>\n",
       "      <td>0.265</td>\n",
       "      <td>0.265</td>\n",
       "      <td>0.921875</td>\n",
       "      <td>2.0</td>\n",
       "      <td>2.0</td>\n",
       "      <td>no</td>\n",
       "      <td>no</td>\n",
       "      <td>no</td>\n",
       "      <td>yes</td>\n",
       "      <td>3.2</td>\n",
       "      <td>0</td>\n",
       "      <td>no</td>\n",
       "      <td>no</td>\n",
       "    </tr>\n",
       "    <tr>\n",
       "      <th>2</th>\n",
       "      <td>0.372</td>\n",
       "      <td>0.248</td>\n",
       "      <td>0.920398</td>\n",
       "      <td>1.0</td>\n",
       "      <td>2.0</td>\n",
       "      <td>no</td>\n",
       "      <td>no</td>\n",
       "      <td>no</td>\n",
       "      <td>no</td>\n",
       "      <td>3.2</td>\n",
       "      <td>0</td>\n",
       "      <td>no</td>\n",
       "      <td>no</td>\n",
       "    </tr>\n",
       "    <tr>\n",
       "      <th>3</th>\n",
       "      <td>0.320</td>\n",
       "      <td>0.250</td>\n",
       "      <td>0.860465</td>\n",
       "      <td>1.0</td>\n",
       "      <td>2.0</td>\n",
       "      <td>no</td>\n",
       "      <td>no</td>\n",
       "      <td>no</td>\n",
       "      <td>no</td>\n",
       "      <td>4.3</td>\n",
       "      <td>0</td>\n",
       "      <td>no</td>\n",
       "      <td>no</td>\n",
       "    </tr>\n",
       "    <tr>\n",
       "      <th>4</th>\n",
       "      <td>0.360</td>\n",
       "      <td>0.350</td>\n",
       "      <td>0.600000</td>\n",
       "      <td>1.0</td>\n",
       "      <td>1.0</td>\n",
       "      <td>no</td>\n",
       "      <td>no</td>\n",
       "      <td>no</td>\n",
       "      <td>no</td>\n",
       "      <td>3.2</td>\n",
       "      <td>0</td>\n",
       "      <td>no</td>\n",
       "      <td>no</td>\n",
       "    </tr>\n",
       "  </tbody>\n",
       "</table>\n",
       "</div>"
      ],
      "text/plain": [
       "     dir    hir       lvr  ccs  mcs pbcr dmi self single  uria  comdominiom   \n",
       "0  0.221  0.221  0.800000  5.0  2.0   no  no   no     no   3.9            0  \\\n",
       "1  0.265  0.265  0.921875  2.0  2.0   no  no   no    yes   3.2            0   \n",
       "2  0.372  0.248  0.920398  1.0  2.0   no  no   no     no   3.2            0   \n",
       "3  0.320  0.250  0.860465  1.0  2.0   no  no   no     no   4.3            0   \n",
       "4  0.360  0.350  0.600000  1.0  1.0   no  no   no     no   3.2            0   \n",
       "\n",
       "  black deny  \n",
       "0    no   no  \n",
       "1    no   no  \n",
       "2    no   no  \n",
       "3    no   no  \n",
       "4    no   no  "
      ]
     },
     "execution_count": 3,
     "metadata": {},
     "output_type": "execute_result"
    }
   ],
   "source": [
    "CREDITO = pd.read_csv('actividad2.csv')\n",
    "CREDITO.head()"
   ]
  },
  {
   "cell_type": "markdown",
   "id": "a12b7a6f-537c-4f71-a636-97c600e0e231",
   "metadata": {},
   "source": [
    "dir = debt payments to total income ratio\n",
    "hir = housing expenses to income ratio\n",
    "lvr = ratio of size of loan to assessed value of property\n",
    "ccs = consumer credit score from 1 to 6 (a low value being a good score)\n",
    "mcs = mortgage credit score from 1 to 4 (a low value being a good score)\n",
    "pbcr = public bad credit record ?\n",
    "dmi = denied mortgage insurance ?\n",
    "self = self employed ?\n",
    "single = is the applicant single ?\n",
    "uria = 1989 Massachusetts unemployment rate in the applicant's industry\n",
    "condominium = is unit a condominium ? (was called comdominiom in version 0.2-9 and earlier versions of the package)\n",
    "black = is the applicant black ?\n",
    "deny = mortgage application denied ?"
   ]
  },
  {
   "cell_type": "markdown",
   "id": "75a36d4f-a2c8-4d0a-a5a5-6a04efea4ca7",
   "metadata": {},
   "source": [
    "# Hipótesis\n",
    "El evento de recibir una aceptación de crédito va ligado al hecho de estar soltero (single), trabajar dependientemente (self) y vivir en un condominio (condominium)."
   ]
  },
  {
   "cell_type": "markdown",
   "id": "195e0440-b771-46f2-a5a8-8608dd04c1b9",
   "metadata": {},
   "source": [
    "# Análisis Descriptivo"
   ]
  },
  {
   "cell_type": "code",
   "execution_count": 18,
   "id": "7f595243-ee16-42a2-ab4c-cb22c0bc79c5",
   "metadata": {
    "tags": []
   },
   "outputs": [
    {
     "data": {
      "text/plain": [
       "2381"
      ]
     },
     "execution_count": 18,
     "metadata": {},
     "output_type": "execute_result"
    }
   ],
   "source": [
    "len(CREDITO)"
   ]
  },
  {
   "cell_type": "code",
   "execution_count": 17,
   "id": "1810aa41-eb52-4abc-9bf5-17d4b18ff237",
   "metadata": {
    "tags": []
   },
   "outputs": [
    {
     "name": "stdout",
     "output_type": "stream",
     "text": [
      "<class 'pandas.core.frame.DataFrame'>\n",
      "RangeIndex: 2381 entries, 0 to 2380\n",
      "Data columns (total 17 columns):\n",
      " #   Column         Non-Null Count  Dtype  \n",
      "---  ------         --------------  -----  \n",
      " 0   dir            2381 non-null   float64\n",
      " 1   hir            2381 non-null   float64\n",
      " 2   lvr            2381 non-null   float64\n",
      " 3   ccs            2381 non-null   float64\n",
      " 4   mcs            2381 non-null   float64\n",
      " 5   pbcr           2380 non-null   object \n",
      " 6   dmi            2381 non-null   object \n",
      " 7   self           2380 non-null   object \n",
      " 8   single         2381 non-null   object \n",
      " 9   uria           2381 non-null   float64\n",
      " 10  comdominiom    2381 non-null   int64  \n",
      " 11  black          2381 non-null   object \n",
      " 12  deny           2381 non-null   object \n",
      " 13  deny_yes       2381 non-null   int32  \n",
      " 14  condominiom_1  2381 non-null   int32  \n",
      " 15  self_yes       2381 non-null   int32  \n",
      " 16  single_yes     2381 non-null   int32  \n",
      "dtypes: float64(6), int32(4), int64(1), object(6)\n",
      "memory usage: 279.2+ KB\n"
     ]
    }
   ],
   "source": [
    "CREDITO.info()"
   ]
  },
  {
   "cell_type": "code",
   "execution_count": 19,
   "id": "14281d3d-1fb3-4dec-b69b-49a9a03a9065",
   "metadata": {
    "tags": []
   },
   "outputs": [
    {
     "data": {
      "text/plain": [
       "dir              0.000000\n",
       "hir              0.000000\n",
       "lvr              0.000000\n",
       "ccs              0.000000\n",
       "mcs              0.000000\n",
       "pbcr             0.041999\n",
       "dmi              0.000000\n",
       "self             0.041999\n",
       "single           0.000000\n",
       "uria             0.000000\n",
       "comdominiom      0.000000\n",
       "black            0.000000\n",
       "deny             0.000000\n",
       "deny_yes         0.000000\n",
       "condominiom_1    0.000000\n",
       "self_yes         0.000000\n",
       "single_yes       0.000000\n",
       "dtype: float64"
      ]
     },
     "execution_count": 19,
     "metadata": {},
     "output_type": "execute_result"
    }
   ],
   "source": [
    "100 * CREDITO.isnull().sum() / len(CREDITO)"
   ]
  },
  {
   "cell_type": "code",
   "execution_count": 20,
   "id": "b489b5fd-7747-4308-b02c-efbbd060d74d",
   "metadata": {
    "tags": []
   },
   "outputs": [
    {
     "data": {
      "text/plain": [
       "<Axes: xlabel='deny', ylabel='count'>"
      ]
     },
     "execution_count": 20,
     "metadata": {},
     "output_type": "execute_result"
    },
    {
     "data": {
      "image/png": "[encoded data removed]",
      "text/plain": [
       "<Figure size 640x480 with 1 Axes>"
      ]
     },
     "metadata": {},
     "output_type": "display_data"
    }
   ],
   "source": [
    "sns.countplot(x='deny' , data=CREDITO , palette='hls')"
   ]
  },
  {
   "cell_type": "code",
   "execution_count": 21,
   "id": "763c6290-369d-48c8-a820-673a43a9ce0d",
   "metadata": {
    "tags": []
   },
   "outputs": [
    {
     "data": {
      "text/plain": [
       "<Axes: xlabel='deny', ylabel='ccs'>"
      ]
     },
     "execution_count": 21,
     "metadata": {},
     "output_type": "execute_result"
    },
    {
     "data": {
      "image/png": "[encoded data removed]",
      "text/plain": [
       "<Figure size 640x480 with 1 Axes>"
      ]
     },
     "metadata": {},
     "output_type": "display_data"
    }
   ],
   "source": [
    "sns.boxplot(x='deny' , y='ccs' , data = CREDITO)"
   ]
  },
  {
   "cell_type": "code",
   "execution_count": 22,
   "id": "ff1cab44-852c-4f01-a2a6-fa6584567c77",
   "metadata": {
    "tags": []
   },
   "outputs": [
    {
     "data": {
      "text/plain": [
       "dir              0\n",
       "hir              0\n",
       "lvr              0\n",
       "ccs              0\n",
       "mcs              0\n",
       "pbcr             0\n",
       "dmi              0\n",
       "self             0\n",
       "single           0\n",
       "uria             0\n",
       "comdominiom      0\n",
       "black            0\n",
       "deny             0\n",
       "deny_yes         0\n",
       "condominiom_1    0\n",
       "self_yes         0\n",
       "single_yes       0\n",
       "dtype: int64"
      ]
     },
     "execution_count": 22,
     "metadata": {},
     "output_type": "execute_result"
    }
   ],
   "source": [
    "CREDITO.dropna(inplace= True)\n",
    "CREDITO.isnull().sum()"
   ]
  },
  {
   "cell_type": "code",
   "execution_count": 23,
   "id": "be9e167b-cc08-4803-884c-c30b757ae8f8",
   "metadata": {
    "tags": []
   },
   "outputs": [
    {
     "data": {
      "text/plain": [
       "dir              0.0\n",
       "hir              0.0\n",
       "lvr              0.0\n",
       "ccs              0.0\n",
       "mcs              0.0\n",
       "pbcr             0.0\n",
       "dmi              0.0\n",
       "self             0.0\n",
       "single           0.0\n",
       "uria             0.0\n",
       "comdominiom      0.0\n",
       "black            0.0\n",
       "deny             0.0\n",
       "deny_yes         0.0\n",
       "condominiom_1    0.0\n",
       "self_yes         0.0\n",
       "single_yes       0.0\n",
       "dtype: float64"
      ]
     },
     "execution_count": 23,
     "metadata": {},
     "output_type": "execute_result"
    }
   ],
   "source": [
    "100 * CREDITO.isnull().sum() / len(CREDITO)"
   ]
  },
  {
   "cell_type": "code",
   "execution_count": 24,
   "id": "e7425c71-9206-4df3-835f-c0fa99f139ad",
   "metadata": {
    "tags": []
   },
   "outputs": [
    {
     "data": {
      "text/html": [
       "<div>\n",
       "<style scoped>\n",
       "    .dataframe tbody tr th:only-of-type {\n",
       "        vertical-align: middle;\n",
       "    }\n",
       "\n",
       "    .dataframe tbody tr th {\n",
       "        vertical-align: top;\n",
       "    }\n",
       "\n",
       "    .dataframe thead th {\n",
       "        text-align: right;\n",
       "    }\n",
       "</style>\n",
       "<table border=\"1\" class=\"dataframe\">\n",
       "  <thead>\n",
       "    <tr style=\"text-align: right;\">\n",
       "      <th></th>\n",
       "      <th>dir</th>\n",
       "      <th>hir</th>\n",
       "      <th>lvr</th>\n",
       "      <th>ccs</th>\n",
       "      <th>mcs</th>\n",
       "      <th>pbcr</th>\n",
       "      <th>dmi</th>\n",
       "      <th>self</th>\n",
       "      <th>single</th>\n",
       "      <th>uria</th>\n",
       "      <th>comdominiom</th>\n",
       "      <th>black</th>\n",
       "      <th>deny</th>\n",
       "      <th>deny_yes</th>\n",
       "      <th>condominiom_1</th>\n",
       "      <th>self_yes</th>\n",
       "      <th>single_yes</th>\n",
       "    </tr>\n",
       "  </thead>\n",
       "  <tbody>\n",
       "    <tr>\n",
       "      <th>0</th>\n",
       "      <td>0.221</td>\n",
       "      <td>0.221</td>\n",
       "      <td>0.800000</td>\n",
       "      <td>5.0</td>\n",
       "      <td>2.0</td>\n",
       "      <td>no</td>\n",
       "      <td>no</td>\n",
       "      <td>no</td>\n",
       "      <td>no</td>\n",
       "      <td>3.9</td>\n",
       "      <td>0</td>\n",
       "      <td>no</td>\n",
       "      <td>no</td>\n",
       "      <td>0</td>\n",
       "      <td>0</td>\n",
       "      <td>0</td>\n",
       "      <td>0</td>\n",
       "    </tr>\n",
       "    <tr>\n",
       "      <th>1</th>\n",
       "      <td>0.265</td>\n",
       "      <td>0.265</td>\n",
       "      <td>0.921875</td>\n",
       "      <td>2.0</td>\n",
       "      <td>2.0</td>\n",
       "      <td>no</td>\n",
       "      <td>no</td>\n",
       "      <td>no</td>\n",
       "      <td>yes</td>\n",
       "      <td>3.2</td>\n",
       "      <td>0</td>\n",
       "      <td>no</td>\n",
       "      <td>no</td>\n",
       "      <td>0</td>\n",
       "      <td>0</td>\n",
       "      <td>0</td>\n",
       "      <td>1</td>\n",
       "    </tr>\n",
       "    <tr>\n",
       "      <th>2</th>\n",
       "      <td>0.372</td>\n",
       "      <td>0.248</td>\n",
       "      <td>0.920398</td>\n",
       "      <td>1.0</td>\n",
       "      <td>2.0</td>\n",
       "      <td>no</td>\n",
       "      <td>no</td>\n",
       "      <td>no</td>\n",
       "      <td>no</td>\n",
       "      <td>3.2</td>\n",
       "      <td>0</td>\n",
       "      <td>no</td>\n",
       "      <td>no</td>\n",
       "      <td>0</td>\n",
       "      <td>0</td>\n",
       "      <td>0</td>\n",
       "      <td>0</td>\n",
       "    </tr>\n",
       "    <tr>\n",
       "      <th>3</th>\n",
       "      <td>0.320</td>\n",
       "      <td>0.250</td>\n",
       "      <td>0.860465</td>\n",
       "      <td>1.0</td>\n",
       "      <td>2.0</td>\n",
       "      <td>no</td>\n",
       "      <td>no</td>\n",
       "      <td>no</td>\n",
       "      <td>no</td>\n",
       "      <td>4.3</td>\n",
       "      <td>0</td>\n",
       "      <td>no</td>\n",
       "      <td>no</td>\n",
       "      <td>0</td>\n",
       "      <td>0</td>\n",
       "      <td>0</td>\n",
       "      <td>0</td>\n",
       "    </tr>\n",
       "    <tr>\n",
       "      <th>4</th>\n",
       "      <td>0.360</td>\n",
       "      <td>0.350</td>\n",
       "      <td>0.600000</td>\n",
       "      <td>1.0</td>\n",
       "      <td>1.0</td>\n",
       "      <td>no</td>\n",
       "      <td>no</td>\n",
       "      <td>no</td>\n",
       "      <td>no</td>\n",
       "      <td>3.2</td>\n",
       "      <td>0</td>\n",
       "      <td>no</td>\n",
       "      <td>no</td>\n",
       "      <td>0</td>\n",
       "      <td>0</td>\n",
       "      <td>0</td>\n",
       "      <td>0</td>\n",
       "    </tr>\n",
       "  </tbody>\n",
       "</table>\n",
       "</div>"
      ],
      "text/plain": [
       "     dir    hir       lvr  ccs  mcs pbcr dmi self single  uria  comdominiom   \n",
       "0  0.221  0.221  0.800000  5.0  2.0   no  no   no     no   3.9            0  \\\n",
       "1  0.265  0.265  0.921875  2.0  2.0   no  no   no    yes   3.2            0   \n",
       "2  0.372  0.248  0.920398  1.0  2.0   no  no   no     no   3.2            0   \n",
       "3  0.320  0.250  0.860465  1.0  2.0   no  no   no     no   4.3            0   \n",
       "4  0.360  0.350  0.600000  1.0  1.0   no  no   no     no   3.2            0   \n",
       "\n",
       "  black deny  deny_yes  condominiom_1  self_yes  single_yes  \n",
       "0    no   no         0              0         0           0  \n",
       "1    no   no         0              0         0           1  \n",
       "2    no   no         0              0         0           0  \n",
       "3    no   no         0              0         0           0  \n",
       "4    no   no         0              0         0           0  "
      ]
     },
     "execution_count": 24,
     "metadata": {},
     "output_type": "execute_result"
    }
   ],
   "source": [
    "CREDITO.head()"
   ]
  },
  {
   "cell_type": "code",
   "execution_count": 25,
   "id": "22ab7a50-22f7-4d44-bcfc-8c20ffe548ab",
   "metadata": {
    "tags": []
   },
   "outputs": [
    {
     "name": "stdout",
     "output_type": "stream",
     "text": [
      "<class 'pandas.core.frame.DataFrame'>\n",
      "Index: 2380 entries, 0 to 2379\n",
      "Data columns (total 17 columns):\n",
      " #   Column         Non-Null Count  Dtype  \n",
      "---  ------         --------------  -----  \n",
      " 0   dir            2380 non-null   float64\n",
      " 1   hir            2380 non-null   float64\n",
      " 2   lvr            2380 non-null   float64\n",
      " 3   ccs            2380 non-null   float64\n",
      " 4   mcs            2380 non-null   float64\n",
      " 5   pbcr           2380 non-null   object \n",
      " 6   dmi            2380 non-null   object \n",
      " 7   self           2380 non-null   object \n",
      " 8   single         2380 non-null   object \n",
      " 9   uria           2380 non-null   float64\n",
      " 10  comdominiom    2380 non-null   int64  \n",
      " 11  black          2380 non-null   object \n",
      " 12  deny           2380 non-null   object \n",
      " 13  deny_yes       2380 non-null   int32  \n",
      " 14  condominiom_1  2380 non-null   int32  \n",
      " 15  self_yes       2380 non-null   int32  \n",
      " 16  single_yes     2380 non-null   int32  \n",
      "dtypes: float64(6), int32(4), int64(1), object(6)\n",
      "memory usage: 297.5+ KB\n"
     ]
    }
   ],
   "source": [
    "CREDITO.info()"
   ]
  },
  {
   "cell_type": "markdown",
   "id": "fa5883b7-ff4c-4198-b949-173d41c7ed46",
   "metadata": {},
   "source": [
    "# Ejercicio"
   ]
  },
  {
   "cell_type": "code",
   "execution_count": 26,
   "id": "0f7ebe47-cb87-4d0f-8330-406fcfa4f524",
   "metadata": {
    "tags": []
   },
   "outputs": [
    {
     "data": {
      "text/html": [
       "<div>\n",
       "<style scoped>\n",
       "    .dataframe tbody tr th:only-of-type {\n",
       "        vertical-align: middle;\n",
       "    }\n",
       "\n",
       "    .dataframe tbody tr th {\n",
       "        vertical-align: top;\n",
       "    }\n",
       "\n",
       "    .dataframe thead th {\n",
       "        text-align: right;\n",
       "    }\n",
       "</style>\n",
       "<table border=\"1\" class=\"dataframe\">\n",
       "  <thead>\n",
       "    <tr style=\"text-align: right;\">\n",
       "      <th></th>\n",
       "      <th>single_yes</th>\n",
       "    </tr>\n",
       "  </thead>\n",
       "  <tbody>\n",
       "    <tr>\n",
       "      <th>0</th>\n",
       "      <td>0</td>\n",
       "    </tr>\n",
       "    <tr>\n",
       "      <th>1</th>\n",
       "      <td>1</td>\n",
       "    </tr>\n",
       "    <tr>\n",
       "      <th>2</th>\n",
       "      <td>0</td>\n",
       "    </tr>\n",
       "    <tr>\n",
       "      <th>3</th>\n",
       "      <td>0</td>\n",
       "    </tr>\n",
       "    <tr>\n",
       "      <th>4</th>\n",
       "      <td>0</td>\n",
       "    </tr>\n",
       "  </tbody>\n",
       "</table>\n",
       "</div>"
      ],
      "text/plain": [
       "   single_yes\n",
       "0           0\n",
       "1           1\n",
       "2           0\n",
       "3           0\n",
       "4           0"
      ]
     },
     "execution_count": 26,
     "metadata": {},
     "output_type": "execute_result"
    }
   ],
   "source": [
    "single_yes = pd.get_dummies(CREDITO['single'], prefix='single', drop_first=True).astype(int)\n",
    "single_yes.head()"
   ]
  },
  {
   "cell_type": "code",
   "execution_count": 27,
   "id": "6450b48e-c1b7-4c28-89cb-4f1a21ad2b04",
   "metadata": {
    "tags": []
   },
   "outputs": [
    {
     "data": {
      "text/html": [
       "<div>\n",
       "<style scoped>\n",
       "    .dataframe tbody tr th:only-of-type {\n",
       "        vertical-align: middle;\n",
       "    }\n",
       "\n",
       "    .dataframe tbody tr th {\n",
       "        vertical-align: top;\n",
       "    }\n",
       "\n",
       "    .dataframe thead th {\n",
       "        text-align: right;\n",
       "    }\n",
       "</style>\n",
       "<table border=\"1\" class=\"dataframe\">\n",
       "  <thead>\n",
       "    <tr style=\"text-align: right;\">\n",
       "      <th></th>\n",
       "      <th>self_yes</th>\n",
       "    </tr>\n",
       "  </thead>\n",
       "  <tbody>\n",
       "    <tr>\n",
       "      <th>0</th>\n",
       "      <td>0</td>\n",
       "    </tr>\n",
       "    <tr>\n",
       "      <th>1</th>\n",
       "      <td>0</td>\n",
       "    </tr>\n",
       "    <tr>\n",
       "      <th>2</th>\n",
       "      <td>0</td>\n",
       "    </tr>\n",
       "    <tr>\n",
       "      <th>3</th>\n",
       "      <td>0</td>\n",
       "    </tr>\n",
       "    <tr>\n",
       "      <th>4</th>\n",
       "      <td>0</td>\n",
       "    </tr>\n",
       "  </tbody>\n",
       "</table>\n",
       "</div>"
      ],
      "text/plain": [
       "   self_yes\n",
       "0         0\n",
       "1         0\n",
       "2         0\n",
       "3         0\n",
       "4         0"
      ]
     },
     "execution_count": 27,
     "metadata": {},
     "output_type": "execute_result"
    }
   ],
   "source": [
    "self_yes = pd.get_dummies(CREDITO['self'], prefix='self', drop_first=True).astype(int)\n",
    "self_yes.head()"
   ]
  },
  {
   "cell_type": "code",
   "execution_count": 28,
   "id": "ac3a5be6-8d4d-4ac1-8d8b-a76d071b6939",
   "metadata": {
    "tags": []
   },
   "outputs": [
    {
     "data": {
      "text/html": [
       "<div>\n",
       "<style scoped>\n",
       "    .dataframe tbody tr th:only-of-type {\n",
       "        vertical-align: middle;\n",
       "    }\n",
       "\n",
       "    .dataframe tbody tr th {\n",
       "        vertical-align: top;\n",
       "    }\n",
       "\n",
       "    .dataframe thead th {\n",
       "        text-align: right;\n",
       "    }\n",
       "</style>\n",
       "<table border=\"1\" class=\"dataframe\">\n",
       "  <thead>\n",
       "    <tr style=\"text-align: right;\">\n",
       "      <th></th>\n",
       "      <th>condominiom_1</th>\n",
       "    </tr>\n",
       "  </thead>\n",
       "  <tbody>\n",
       "    <tr>\n",
       "      <th>0</th>\n",
       "      <td>0</td>\n",
       "    </tr>\n",
       "    <tr>\n",
       "      <th>1</th>\n",
       "      <td>0</td>\n",
       "    </tr>\n",
       "    <tr>\n",
       "      <th>2</th>\n",
       "      <td>0</td>\n",
       "    </tr>\n",
       "    <tr>\n",
       "      <th>3</th>\n",
       "      <td>0</td>\n",
       "    </tr>\n",
       "    <tr>\n",
       "      <th>4</th>\n",
       "      <td>0</td>\n",
       "    </tr>\n",
       "  </tbody>\n",
       "</table>\n",
       "</div>"
      ],
      "text/plain": [
       "   condominiom_1\n",
       "0              0\n",
       "1              0\n",
       "2              0\n",
       "3              0\n",
       "4              0"
      ]
     },
     "execution_count": 28,
     "metadata": {},
     "output_type": "execute_result"
    }
   ],
   "source": [
    "condominiom_1 = pd.get_dummies(CREDITO['comdominiom'], prefix='condominiom', drop_first=True).astype(int)\n",
    "condominiom_1.head()"
   ]
  },
  {
   "cell_type": "code",
   "execution_count": 29,
   "id": "b3537607-3394-48b4-9b7e-5a996b9cf688",
   "metadata": {
    "tags": []
   },
   "outputs": [
    {
     "data": {
      "text/html": [
       "<div>\n",
       "<style scoped>\n",
       "    .dataframe tbody tr th:only-of-type {\n",
       "        vertical-align: middle;\n",
       "    }\n",
       "\n",
       "    .dataframe tbody tr th {\n",
       "        vertical-align: top;\n",
       "    }\n",
       "\n",
       "    .dataframe thead th {\n",
       "        text-align: right;\n",
       "    }\n",
       "</style>\n",
       "<table border=\"1\" class=\"dataframe\">\n",
       "  <thead>\n",
       "    <tr style=\"text-align: right;\">\n",
       "      <th></th>\n",
       "      <th>deny_yes</th>\n",
       "    </tr>\n",
       "  </thead>\n",
       "  <tbody>\n",
       "    <tr>\n",
       "      <th>0</th>\n",
       "      <td>0</td>\n",
       "    </tr>\n",
       "    <tr>\n",
       "      <th>1</th>\n",
       "      <td>0</td>\n",
       "    </tr>\n",
       "    <tr>\n",
       "      <th>2</th>\n",
       "      <td>0</td>\n",
       "    </tr>\n",
       "    <tr>\n",
       "      <th>3</th>\n",
       "      <td>0</td>\n",
       "    </tr>\n",
       "    <tr>\n",
       "      <th>4</th>\n",
       "      <td>0</td>\n",
       "    </tr>\n",
       "  </tbody>\n",
       "</table>\n",
       "</div>"
      ],
      "text/plain": [
       "   deny_yes\n",
       "0         0\n",
       "1         0\n",
       "2         0\n",
       "3         0\n",
       "4         0"
      ]
     },
     "execution_count": 29,
     "metadata": {},
     "output_type": "execute_result"
    }
   ],
   "source": [
    "deny_yes = pd.get_dummies(CREDITO['deny'], prefix='deny', drop_first=True).astype(int)\n",
    "deny_yes.head()"
   ]
  },
  {
   "cell_type": "code",
   "execution_count": 30,
   "id": "9e5d6d88-cfc1-4f0a-9d6a-8d0a233db68e",
   "metadata": {
    "tags": []
   },
   "outputs": [],
   "source": [
    "CREDITO = pd.concat([CREDITO, deny_yes], axis=1)\n",
    "CREDITO = pd.concat([CREDITO, condominiom_1], axis=1)\n",
    "CREDITO = pd.concat([CREDITO, self_yes], axis=1)\n",
    "CREDITO = pd.concat([CREDITO, single_yes], axis=1)"
   ]
  },
  {
   "cell_type": "markdown",
   "id": "7c456c52-3798-4340-8371-6a4fac40e45b",
   "metadata": {},
   "source": [
    "# ELIMINAR DUPLICADOS"
   ]
  },
  {
   "cell_type": "code",
   "execution_count": 31,
   "id": "5552959d-3f30-4d1a-947f-b77654d14eb5",
   "metadata": {
    "tags": []
   },
   "outputs": [],
   "source": [
    "CREDITO = CREDITO.loc[:,~CREDITO.columns.duplicated()]"
   ]
  },
  {
   "cell_type": "code",
   "execution_count": 32,
   "id": "cb8db7c8-918e-4aa3-a1d5-a9a437998d70",
   "metadata": {
    "tags": []
   },
   "outputs": [
    {
     "data": {
      "text/html": [
       "<div>\n",
       "<style scoped>\n",
       "    .dataframe tbody tr th:only-of-type {\n",
       "        vertical-align: middle;\n",
       "    }\n",
       "\n",
       "    .dataframe tbody tr th {\n",
       "        vertical-align: top;\n",
       "    }\n",
       "\n",
       "    .dataframe thead th {\n",
       "        text-align: right;\n",
       "    }\n",
       "</style>\n",
       "<table border=\"1\" class=\"dataframe\">\n",
       "  <thead>\n",
       "    <tr style=\"text-align: right;\">\n",
       "      <th></th>\n",
       "      <th>dir</th>\n",
       "      <th>hir</th>\n",
       "      <th>lvr</th>\n",
       "      <th>ccs</th>\n",
       "      <th>mcs</th>\n",
       "      <th>pbcr</th>\n",
       "      <th>dmi</th>\n",
       "      <th>self</th>\n",
       "      <th>single</th>\n",
       "      <th>uria</th>\n",
       "      <th>comdominiom</th>\n",
       "      <th>black</th>\n",
       "      <th>deny</th>\n",
       "      <th>deny_yes</th>\n",
       "      <th>condominiom_1</th>\n",
       "      <th>self_yes</th>\n",
       "      <th>single_yes</th>\n",
       "    </tr>\n",
       "  </thead>\n",
       "  <tbody>\n",
       "    <tr>\n",
       "      <th>0</th>\n",
       "      <td>0.221</td>\n",
       "      <td>0.221</td>\n",
       "      <td>0.800000</td>\n",
       "      <td>5.0</td>\n",
       "      <td>2.0</td>\n",
       "      <td>no</td>\n",
       "      <td>no</td>\n",
       "      <td>no</td>\n",
       "      <td>no</td>\n",
       "      <td>3.9</td>\n",
       "      <td>0</td>\n",
       "      <td>no</td>\n",
       "      <td>no</td>\n",
       "      <td>0</td>\n",
       "      <td>0</td>\n",
       "      <td>0</td>\n",
       "      <td>0</td>\n",
       "    </tr>\n",
       "    <tr>\n",
       "      <th>1</th>\n",
       "      <td>0.265</td>\n",
       "      <td>0.265</td>\n",
       "      <td>0.921875</td>\n",
       "      <td>2.0</td>\n",
       "      <td>2.0</td>\n",
       "      <td>no</td>\n",
       "      <td>no</td>\n",
       "      <td>no</td>\n",
       "      <td>yes</td>\n",
       "      <td>3.2</td>\n",
       "      <td>0</td>\n",
       "      <td>no</td>\n",
       "      <td>no</td>\n",
       "      <td>0</td>\n",
       "      <td>0</td>\n",
       "      <td>0</td>\n",
       "      <td>1</td>\n",
       "    </tr>\n",
       "    <tr>\n",
       "      <th>2</th>\n",
       "      <td>0.372</td>\n",
       "      <td>0.248</td>\n",
       "      <td>0.920398</td>\n",
       "      <td>1.0</td>\n",
       "      <td>2.0</td>\n",
       "      <td>no</td>\n",
       "      <td>no</td>\n",
       "      <td>no</td>\n",
       "      <td>no</td>\n",
       "      <td>3.2</td>\n",
       "      <td>0</td>\n",
       "      <td>no</td>\n",
       "      <td>no</td>\n",
       "      <td>0</td>\n",
       "      <td>0</td>\n",
       "      <td>0</td>\n",
       "      <td>0</td>\n",
       "    </tr>\n",
       "    <tr>\n",
       "      <th>3</th>\n",
       "      <td>0.320</td>\n",
       "      <td>0.250</td>\n",
       "      <td>0.860465</td>\n",
       "      <td>1.0</td>\n",
       "      <td>2.0</td>\n",
       "      <td>no</td>\n",
       "      <td>no</td>\n",
       "      <td>no</td>\n",
       "      <td>no</td>\n",
       "      <td>4.3</td>\n",
       "      <td>0</td>\n",
       "      <td>no</td>\n",
       "      <td>no</td>\n",
       "      <td>0</td>\n",
       "      <td>0</td>\n",
       "      <td>0</td>\n",
       "      <td>0</td>\n",
       "    </tr>\n",
       "    <tr>\n",
       "      <th>4</th>\n",
       "      <td>0.360</td>\n",
       "      <td>0.350</td>\n",
       "      <td>0.600000</td>\n",
       "      <td>1.0</td>\n",
       "      <td>1.0</td>\n",
       "      <td>no</td>\n",
       "      <td>no</td>\n",
       "      <td>no</td>\n",
       "      <td>no</td>\n",
       "      <td>3.2</td>\n",
       "      <td>0</td>\n",
       "      <td>no</td>\n",
       "      <td>no</td>\n",
       "      <td>0</td>\n",
       "      <td>0</td>\n",
       "      <td>0</td>\n",
       "      <td>0</td>\n",
       "    </tr>\n",
       "  </tbody>\n",
       "</table>\n",
       "</div>"
      ],
      "text/plain": [
       "     dir    hir       lvr  ccs  mcs pbcr dmi self single  uria  comdominiom   \n",
       "0  0.221  0.221  0.800000  5.0  2.0   no  no   no     no   3.9            0  \\\n",
       "1  0.265  0.265  0.921875  2.0  2.0   no  no   no    yes   3.2            0   \n",
       "2  0.372  0.248  0.920398  1.0  2.0   no  no   no     no   3.2            0   \n",
       "3  0.320  0.250  0.860465  1.0  2.0   no  no   no     no   4.3            0   \n",
       "4  0.360  0.350  0.600000  1.0  1.0   no  no   no     no   3.2            0   \n",
       "\n",
       "  black deny  deny_yes  condominiom_1  self_yes  single_yes  \n",
       "0    no   no         0              0         0           0  \n",
       "1    no   no         0              0         0           1  \n",
       "2    no   no         0              0         0           0  \n",
       "3    no   no         0              0         0           0  \n",
       "4    no   no         0              0         0           0  "
      ]
     },
     "execution_count": 32,
     "metadata": {},
     "output_type": "execute_result"
    }
   ],
   "source": [
    "CREDITO.head()"
   ]
  },
  {
   "cell_type": "code",
   "execution_count": 34,
   "id": "9ada644e-d8ee-43e2-a0e4-37112e851b88",
   "metadata": {
    "tags": []
   },
   "outputs": [
    {
     "name": "stdout",
     "output_type": "stream",
     "text": [
      "Optimization terminated successfully.\n",
      "         Current function value: 0.362023\n",
      "         Iterations 6\n"
     ]
    },
    {
     "data": {
      "text/html": [
       "<table class=\"simpletable\">\n",
       "<caption>Logit Regression Results</caption>\n",
       "<tr>\n",
       "  <th>Dep. Variable:</th>       <td>deny_yes</td>     <th>  No. Observations:  </th>  <td>  2380</td>  \n",
       "</tr>\n",
       "<tr>\n",
       "  <th>Model:</th>                 <td>Logit</td>      <th>  Df Residuals:      </th>  <td>  2376</td>  \n",
       "</tr>\n",
       "<tr>\n",
       "  <th>Method:</th>                 <td>MLE</td>       <th>  Df Model:          </th>  <td>     3</td>  \n",
       "</tr>\n",
       "<tr>\n",
       "  <th>Date:</th>            <td>Tue, 30 May 2023</td> <th>  Pseudo R-squ.:     </th>  <td>0.01201</td> \n",
       "</tr>\n",
       "<tr>\n",
       "  <th>Time:</th>                <td>19:42:28</td>     <th>  Log-Likelihood:    </th> <td> -861.62</td> \n",
       "</tr>\n",
       "<tr>\n",
       "  <th>converged:</th>             <td>True</td>       <th>  LL-Null:           </th> <td> -872.09</td> \n",
       "</tr>\n",
       "<tr>\n",
       "  <th>Covariance Type:</th>     <td>nonrobust</td>    <th>  LLR p-value:       </th> <td>0.0001084</td>\n",
       "</tr>\n",
       "</table>\n",
       "<table class=\"simpletable\">\n",
       "<tr>\n",
       "        <td></td>           <th>coef</th>     <th>std err</th>      <th>z</th>      <th>P>|z|</th>  <th>[0.025</th>    <th>0.975]</th>  \n",
       "</tr>\n",
       "<tr>\n",
       "  <th>Intercept</th>     <td>   -2.2927</td> <td>    0.097</td> <td>  -23.582</td> <td> 0.000</td> <td>   -2.483</td> <td>   -2.102</td>\n",
       "</tr>\n",
       "<tr>\n",
       "  <th>condominiom_1</th> <td>    0.1321</td> <td>    0.141</td> <td>    0.935</td> <td> 0.350</td> <td>   -0.145</td> <td>    0.409</td>\n",
       "</tr>\n",
       "<tr>\n",
       "  <th>self_yes</th>      <td>    0.4683</td> <td>    0.176</td> <td>    2.654</td> <td> 0.008</td> <td>    0.122</td> <td>    0.814</td>\n",
       "</tr>\n",
       "<tr>\n",
       "  <th>single_yes</th>    <td>    0.4445</td> <td>    0.133</td> <td>    3.345</td> <td> 0.001</td> <td>    0.184</td> <td>    0.705</td>\n",
       "</tr>\n",
       "</table>"
      ],
      "text/plain": [
       "<class 'statsmodels.iolib.summary.Summary'>\n",
       "\"\"\"\n",
       "                           Logit Regression Results                           \n",
       "==============================================================================\n",
       "Dep. Variable:               deny_yes   No. Observations:                 2380\n",
       "Model:                          Logit   Df Residuals:                     2376\n",
       "Method:                           MLE   Df Model:                            3\n",
       "Date:                Tue, 30 May 2023   Pseudo R-squ.:                 0.01201\n",
       "Time:                        19:42:28   Log-Likelihood:                -861.62\n",
       "converged:                       True   LL-Null:                       -872.09\n",
       "Covariance Type:            nonrobust   LLR p-value:                 0.0001084\n",
       "=================================================================================\n",
       "                    coef    std err          z      P>|z|      [0.025      0.975]\n",
       "---------------------------------------------------------------------------------\n",
       "Intercept        -2.2927      0.097    -23.582      0.000      -2.483      -2.102\n",
       "condominiom_1     0.1321      0.141      0.935      0.350      -0.145       0.409\n",
       "self_yes          0.4683      0.176      2.654      0.008       0.122       0.814\n",
       "single_yes        0.4445      0.133      3.345      0.001       0.184       0.705\n",
       "=================================================================================\n",
       "\"\"\""
      ]
     },
     "execution_count": 34,
     "metadata": {},
     "output_type": "execute_result"
    }
   ],
   "source": [
    "formula_reg_log = \"deny_yes ~ condominiom_1 + self_yes + single_yes\"\n",
    "modelo_log = smf.logit(formula_reg_log, CREDITO).fit()\n",
    "modelo_log.summary()"
   ]
  },
  {
   "cell_type": "markdown",
   "id": "4774370a-60a8-4acc-92be-f7e0d39bdc16",
   "metadata": {},
   "source": [
    "# Respuesta"
   ]
  },
  {
   "cell_type": "markdown",
   "id": "36c9a910-6c45-435d-bf94-96cef6f3e0a6",
   "metadata": {},
   "source": [
    "En base a los datos obtenidos, analizando el coeficiente de cada variable, con su p-valor, se determinó que vivir en condominio o no, no arroja evidencia suficiente para demostrar que vivir en un condominio afecta la probabilidad de recibir un crédito.\n",
    "Sin embargo, ser soltero o nó y trabajar de manera independiente o no, sí afecta a la probabilidad de recibir un crédito.\n",
    "Por lo tanto, la hipótesis del jefe se rechazaa. Por otro lado, se dejan muchas variables que pudiesen ser de gran relevancia fuera del modelo."
   ]
  }
 ],
 "metadata": {
  "kernelspec": {
   "display_name": "Python 3 (ipykernel)",
   "language": "python",
   "name": "python3"
  },
  "language_info": {
   "codemirror_mode": {
    "name": "ipython",
    "version": 3
   },
   "file_extension": ".py",
   "mimetype": "text/x-python",
   "name": "python",
   "nbconvert_exporter": "python",
   "pygments_lexer": "ipython3",
   "version": "3.11.3"
  }
 },
 "nbformat": 4,
 "nbformat_minor": 5
}
