{
 "cells": [
  {
   "cell_type": "markdown",
   "id": "8479ea1f-7908-4796-96dd-8461be962c35",
   "metadata": {},
   "source": [
    "# Integrantes: Fabio Lancellotti"
   ]
  },
  {
   "cell_type": "raw",
   "id": "9849e148-93b5-42c7-8174-c248783be27e",
   "metadata": {},
   "source": [
    "Utilizando la base de datos Covid Data realice lo siguiente:\n",
    "\n",
    "1) Estadisticos descriptivos, para explicar la BD. Recuerde utilizar todo lo aprendido en el curso\n",
    "2)Cree una hipótesis que se pueda comprobar utilizando regresión lineal, y compruebe si se cumple.\n",
    "3)Cree una hipótesis de clasificación, y compruebe si se cumple."
   ]
  },
  {
   "cell_type": "markdown",
   "id": "fbc2c524-c454-4204-87de-b41abc9d74cb",
   "metadata": {},
   "source": [
    "# Imports"
   ]
  },
  {
   "cell_type": "code",
   "execution_count": 133,
   "id": "fb8892b1-5b3f-4b0a-a21c-27757f95b6e4",
   "metadata": {
    "tags": []
   },
   "outputs": [],
   "source": [
    "import pandas as pd\n",
    "import matplotlib.pyplot as plt\n",
    "import seaborn as sns\n",
    "import numpy as np\n",
    "import statsmodels.formula.api as smf"
   ]
  },
  {
   "cell_type": "code",
   "execution_count": 140,
   "id": "9171e405-53e4-4b6a-856b-97b71bfafd36",
   "metadata": {
    "tags": []
   },
   "outputs": [],
   "source": [
    "COVID = pd.read_csv('Covid Data.csv')"
   ]
  },
  {
   "cell_type": "markdown",
   "id": "3d3a9005-2821-4820-ad8d-cfe0ca89b813",
   "metadata": {},
   "source": [
    "# Descriptivos"
   ]
  },
  {
   "cell_type": "code",
   "execution_count": 141,
   "id": "73e08e33-4f8d-4346-9cd3-2f032c47a8ae",
   "metadata": {
    "tags": []
   },
   "outputs": [
    {
     "data": {
      "text/plain": [
       "1048575"
      ]
     },
     "execution_count": 141,
     "metadata": {},
     "output_type": "execute_result"
    }
   ],
   "source": [
    "len(COVID)"
   ]
  },
  {
   "cell_type": "code",
   "execution_count": 142,
   "id": "e2f43f6c-9786-482e-b54f-339cbfc412c3",
   "metadata": {
    "tags": []
   },
   "outputs": [
    {
     "data": {
      "text/html": [
       "<div>\n",
       "<style scoped>\n",
       "    .dataframe tbody tr th:only-of-type {\n",
       "        vertical-align: middle;\n",
       "    }\n",
       "\n",
       "    .dataframe tbody tr th {\n",
       "        vertical-align: top;\n",
       "    }\n",
       "\n",
       "    .dataframe thead th {\n",
       "        text-align: right;\n",
       "    }\n",
       "</style>\n",
       "<table border=\"1\" class=\"dataframe\">\n",
       "  <thead>\n",
       "    <tr style=\"text-align: right;\">\n",
       "      <th></th>\n",
       "      <th>USMER</th>\n",
       "      <th>MEDICAL_UNIT</th>\n",
       "      <th>SEX</th>\n",
       "      <th>PATIENT_TYPE</th>\n",
       "      <th>DATE_DIED</th>\n",
       "      <th>INTUBED</th>\n",
       "      <th>PNEUMONIA</th>\n",
       "      <th>AGE</th>\n",
       "      <th>PREGNANT</th>\n",
       "      <th>DIABETES</th>\n",
       "      <th>...</th>\n",
       "      <th>ASTHMA</th>\n",
       "      <th>INMSUPR</th>\n",
       "      <th>HIPERTENSION</th>\n",
       "      <th>OTHER_DISEASE</th>\n",
       "      <th>CARDIOVASCULAR</th>\n",
       "      <th>OBESITY</th>\n",
       "      <th>RENAL_CHRONIC</th>\n",
       "      <th>TOBACCO</th>\n",
       "      <th>CLASIFFICATION_FINAL</th>\n",
       "      <th>ICU</th>\n",
       "    </tr>\n",
       "  </thead>\n",
       "  <tbody>\n",
       "    <tr>\n",
       "      <th>0</th>\n",
       "      <td>2</td>\n",
       "      <td>1</td>\n",
       "      <td>1</td>\n",
       "      <td>1</td>\n",
       "      <td>03/05/2020</td>\n",
       "      <td>97</td>\n",
       "      <td>1</td>\n",
       "      <td>65</td>\n",
       "      <td>2</td>\n",
       "      <td>2</td>\n",
       "      <td>...</td>\n",
       "      <td>2</td>\n",
       "      <td>2</td>\n",
       "      <td>1</td>\n",
       "      <td>2</td>\n",
       "      <td>2</td>\n",
       "      <td>2</td>\n",
       "      <td>2</td>\n",
       "      <td>2</td>\n",
       "      <td>3</td>\n",
       "      <td>97</td>\n",
       "    </tr>\n",
       "    <tr>\n",
       "      <th>1</th>\n",
       "      <td>2</td>\n",
       "      <td>1</td>\n",
       "      <td>2</td>\n",
       "      <td>1</td>\n",
       "      <td>03/06/2020</td>\n",
       "      <td>97</td>\n",
       "      <td>1</td>\n",
       "      <td>72</td>\n",
       "      <td>97</td>\n",
       "      <td>2</td>\n",
       "      <td>...</td>\n",
       "      <td>2</td>\n",
       "      <td>2</td>\n",
       "      <td>1</td>\n",
       "      <td>2</td>\n",
       "      <td>2</td>\n",
       "      <td>1</td>\n",
       "      <td>1</td>\n",
       "      <td>2</td>\n",
       "      <td>5</td>\n",
       "      <td>97</td>\n",
       "    </tr>\n",
       "    <tr>\n",
       "      <th>2</th>\n",
       "      <td>2</td>\n",
       "      <td>1</td>\n",
       "      <td>2</td>\n",
       "      <td>2</td>\n",
       "      <td>09/06/2020</td>\n",
       "      <td>1</td>\n",
       "      <td>2</td>\n",
       "      <td>55</td>\n",
       "      <td>97</td>\n",
       "      <td>1</td>\n",
       "      <td>...</td>\n",
       "      <td>2</td>\n",
       "      <td>2</td>\n",
       "      <td>2</td>\n",
       "      <td>2</td>\n",
       "      <td>2</td>\n",
       "      <td>2</td>\n",
       "      <td>2</td>\n",
       "      <td>2</td>\n",
       "      <td>3</td>\n",
       "      <td>2</td>\n",
       "    </tr>\n",
       "    <tr>\n",
       "      <th>3</th>\n",
       "      <td>2</td>\n",
       "      <td>1</td>\n",
       "      <td>1</td>\n",
       "      <td>1</td>\n",
       "      <td>12/06/2020</td>\n",
       "      <td>97</td>\n",
       "      <td>2</td>\n",
       "      <td>53</td>\n",
       "      <td>2</td>\n",
       "      <td>2</td>\n",
       "      <td>...</td>\n",
       "      <td>2</td>\n",
       "      <td>2</td>\n",
       "      <td>2</td>\n",
       "      <td>2</td>\n",
       "      <td>2</td>\n",
       "      <td>2</td>\n",
       "      <td>2</td>\n",
       "      <td>2</td>\n",
       "      <td>7</td>\n",
       "      <td>97</td>\n",
       "    </tr>\n",
       "    <tr>\n",
       "      <th>4</th>\n",
       "      <td>2</td>\n",
       "      <td>1</td>\n",
       "      <td>2</td>\n",
       "      <td>1</td>\n",
       "      <td>21/06/2020</td>\n",
       "      <td>97</td>\n",
       "      <td>2</td>\n",
       "      <td>68</td>\n",
       "      <td>97</td>\n",
       "      <td>1</td>\n",
       "      <td>...</td>\n",
       "      <td>2</td>\n",
       "      <td>2</td>\n",
       "      <td>1</td>\n",
       "      <td>2</td>\n",
       "      <td>2</td>\n",
       "      <td>2</td>\n",
       "      <td>2</td>\n",
       "      <td>2</td>\n",
       "      <td>3</td>\n",
       "      <td>97</td>\n",
       "    </tr>\n",
       "  </tbody>\n",
       "</table>\n",
       "<p>5 rows × 21 columns</p>\n",
       "</div>"
      ],
      "text/plain": [
       "   USMER  MEDICAL_UNIT  SEX  PATIENT_TYPE   DATE_DIED  INTUBED  PNEUMONIA   \n",
       "0      2             1    1             1  03/05/2020       97          1  \\\n",
       "1      2             1    2             1  03/06/2020       97          1   \n",
       "2      2             1    2             2  09/06/2020        1          2   \n",
       "3      2             1    1             1  12/06/2020       97          2   \n",
       "4      2             1    2             1  21/06/2020       97          2   \n",
       "\n",
       "   AGE  PREGNANT  DIABETES  ...  ASTHMA  INMSUPR  HIPERTENSION  OTHER_DISEASE   \n",
       "0   65         2         2  ...       2        2             1              2  \\\n",
       "1   72        97         2  ...       2        2             1              2   \n",
       "2   55        97         1  ...       2        2             2              2   \n",
       "3   53         2         2  ...       2        2             2              2   \n",
       "4   68        97         1  ...       2        2             1              2   \n",
       "\n",
       "   CARDIOVASCULAR  OBESITY  RENAL_CHRONIC  TOBACCO  CLASIFFICATION_FINAL  ICU  \n",
       "0               2        2              2        2                     3   97  \n",
       "1               2        1              1        2                     5   97  \n",
       "2               2        2              2        2                     3    2  \n",
       "3               2        2              2        2                     7   97  \n",
       "4               2        2              2        2                     3   97  \n",
       "\n",
       "[5 rows x 21 columns]"
      ]
     },
     "execution_count": 142,
     "metadata": {},
     "output_type": "execute_result"
    }
   ],
   "source": [
    "COVID.head ()"
   ]
  },
  {
   "cell_type": "code",
   "execution_count": 143,
   "id": "8a3319cd-fdb2-41bf-b17f-f61c42abd4ba",
   "metadata": {
    "tags": []
   },
   "outputs": [
    {
     "name": "stdout",
     "output_type": "stream",
     "text": [
      "<class 'pandas.core.frame.DataFrame'>\n",
      "RangeIndex: 1048575 entries, 0 to 1048574\n",
      "Data columns (total 21 columns):\n",
      " #   Column                Non-Null Count    Dtype \n",
      "---  ------                --------------    ----- \n",
      " 0   USMER                 1048575 non-null  int64 \n",
      " 1   MEDICAL_UNIT          1048575 non-null  int64 \n",
      " 2   SEX                   1048575 non-null  int64 \n",
      " 3   PATIENT_TYPE          1048575 non-null  int64 \n",
      " 4   DATE_DIED             1048575 non-null  object\n",
      " 5   INTUBED               1048575 non-null  int64 \n",
      " 6   PNEUMONIA             1048575 non-null  int64 \n",
      " 7   AGE                   1048575 non-null  int64 \n",
      " 8   PREGNANT              1048575 non-null  int64 \n",
      " 9   DIABETES              1048575 non-null  int64 \n",
      " 10  COPD                  1048575 non-null  int64 \n",
      " 11  ASTHMA                1048575 non-null  int64 \n",
      " 12  INMSUPR               1048575 non-null  int64 \n",
      " 13  HIPERTENSION          1048575 non-null  int64 \n",
      " 14  OTHER_DISEASE         1048575 non-null  int64 \n",
      " 15  CARDIOVASCULAR        1048575 non-null  int64 \n",
      " 16  OBESITY               1048575 non-null  int64 \n",
      " 17  RENAL_CHRONIC         1048575 non-null  int64 \n",
      " 18  TOBACCO               1048575 non-null  int64 \n",
      " 19  CLASIFFICATION_FINAL  1048575 non-null  int64 \n",
      " 20  ICU                   1048575 non-null  int64 \n",
      "dtypes: int64(20), object(1)\n",
      "memory usage: 168.0+ MB\n"
     ]
    }
   ],
   "source": [
    "COVID.info()"
   ]
  },
  {
   "cell_type": "code",
   "execution_count": 144,
   "id": "734439a4-b9b7-48d4-95fb-745410017909",
   "metadata": {
    "tags": []
   },
   "outputs": [
    {
     "data": {
      "text/plain": [
       "Index(['USMER', 'MEDICAL_UNIT', 'SEX', 'PATIENT_TYPE', 'DATE_DIED', 'INTUBED',\n",
       "       'PNEUMONIA', 'AGE', 'PREGNANT', 'DIABETES', 'COPD', 'ASTHMA', 'INMSUPR',\n",
       "       'HIPERTENSION', 'OTHER_DISEASE', 'CARDIOVASCULAR', 'OBESITY',\n",
       "       'RENAL_CHRONIC', 'TOBACCO', 'CLASIFFICATION_FINAL', 'ICU'],\n",
       "      dtype='object')"
      ]
     },
     "execution_count": 144,
     "metadata": {},
     "output_type": "execute_result"
    }
   ],
   "source": [
    "COVID.columns"
   ]
  },
  {
   "cell_type": "markdown",
   "id": "61daa504-96ba-4123-911a-0470f9c04e93",
   "metadata": {},
   "source": [
    "# Eliminamos los datos con valores nulos (97, 98 o 99)"
   ]
  },
  {
   "cell_type": "code",
   "execution_count": 145,
   "id": "4b2f95e5-9082-49a4-b1cf-d03edf6f8705",
   "metadata": {
    "tags": []
   },
   "outputs": [],
   "source": [
    "columnas_verificar = ['USMER', 'MEDICAL_UNIT', 'SEX', 'PATIENT_TYPE', 'DATE_DIED', 'INTUBED',\n",
    "                      'PNEUMONIA', 'PREGNANT', 'DIABETES', 'COPD', 'ASTHMA', 'INMSUPR',\n",
    "                      'HIPERTENSION', 'OTHER_DISEASE', 'CARDIOVASCULAR', 'OBESITY',\n",
    "                      'RENAL_CHRONIC', 'TOBACCO', 'CLASIFFICATION_FINAL', 'ICU']\n",
    "COVID1 = COVID[~COVID[columnas_verificar].isin([97, 98, 99]).any(axis=1)]"
   ]
  },
  {
   "cell_type": "code",
   "execution_count": 146,
   "id": "731ce1f2-b7fb-4792-baaa-23304df44ab2",
   "metadata": {
    "tags": []
   },
   "outputs": [
    {
     "data": {
      "text/html": [
       "<div>\n",
       "<style scoped>\n",
       "    .dataframe tbody tr th:only-of-type {\n",
       "        vertical-align: middle;\n",
       "    }\n",
       "\n",
       "    .dataframe tbody tr th {\n",
       "        vertical-align: top;\n",
       "    }\n",
       "\n",
       "    .dataframe thead th {\n",
       "        text-align: right;\n",
       "    }\n",
       "</style>\n",
       "<table border=\"1\" class=\"dataframe\">\n",
       "  <thead>\n",
       "    <tr style=\"text-align: right;\">\n",
       "      <th></th>\n",
       "      <th>USMER</th>\n",
       "      <th>MEDICAL_UNIT</th>\n",
       "      <th>SEX</th>\n",
       "      <th>PATIENT_TYPE</th>\n",
       "      <th>DATE_DIED</th>\n",
       "      <th>INTUBED</th>\n",
       "      <th>PNEUMONIA</th>\n",
       "      <th>AGE</th>\n",
       "      <th>PREGNANT</th>\n",
       "      <th>DIABETES</th>\n",
       "      <th>...</th>\n",
       "      <th>ASTHMA</th>\n",
       "      <th>INMSUPR</th>\n",
       "      <th>HIPERTENSION</th>\n",
       "      <th>OTHER_DISEASE</th>\n",
       "      <th>CARDIOVASCULAR</th>\n",
       "      <th>OBESITY</th>\n",
       "      <th>RENAL_CHRONIC</th>\n",
       "      <th>TOBACCO</th>\n",
       "      <th>CLASIFFICATION_FINAL</th>\n",
       "      <th>ICU</th>\n",
       "    </tr>\n",
       "  </thead>\n",
       "  <tbody>\n",
       "    <tr>\n",
       "      <th>5</th>\n",
       "      <td>2</td>\n",
       "      <td>1</td>\n",
       "      <td>1</td>\n",
       "      <td>2</td>\n",
       "      <td>9999-99-99</td>\n",
       "      <td>2</td>\n",
       "      <td>1</td>\n",
       "      <td>40</td>\n",
       "      <td>2</td>\n",
       "      <td>2</td>\n",
       "      <td>...</td>\n",
       "      <td>2</td>\n",
       "      <td>2</td>\n",
       "      <td>2</td>\n",
       "      <td>2</td>\n",
       "      <td>2</td>\n",
       "      <td>2</td>\n",
       "      <td>2</td>\n",
       "      <td>2</td>\n",
       "      <td>3</td>\n",
       "      <td>2</td>\n",
       "    </tr>\n",
       "    <tr>\n",
       "      <th>8</th>\n",
       "      <td>2</td>\n",
       "      <td>1</td>\n",
       "      <td>1</td>\n",
       "      <td>2</td>\n",
       "      <td>9999-99-99</td>\n",
       "      <td>2</td>\n",
       "      <td>2</td>\n",
       "      <td>37</td>\n",
       "      <td>2</td>\n",
       "      <td>1</td>\n",
       "      <td>...</td>\n",
       "      <td>2</td>\n",
       "      <td>2</td>\n",
       "      <td>1</td>\n",
       "      <td>2</td>\n",
       "      <td>2</td>\n",
       "      <td>1</td>\n",
       "      <td>2</td>\n",
       "      <td>2</td>\n",
       "      <td>3</td>\n",
       "      <td>2</td>\n",
       "    </tr>\n",
       "    <tr>\n",
       "      <th>9</th>\n",
       "      <td>2</td>\n",
       "      <td>1</td>\n",
       "      <td>1</td>\n",
       "      <td>2</td>\n",
       "      <td>9999-99-99</td>\n",
       "      <td>2</td>\n",
       "      <td>2</td>\n",
       "      <td>25</td>\n",
       "      <td>2</td>\n",
       "      <td>2</td>\n",
       "      <td>...</td>\n",
       "      <td>2</td>\n",
       "      <td>2</td>\n",
       "      <td>2</td>\n",
       "      <td>2</td>\n",
       "      <td>2</td>\n",
       "      <td>2</td>\n",
       "      <td>2</td>\n",
       "      <td>2</td>\n",
       "      <td>3</td>\n",
       "      <td>2</td>\n",
       "    </tr>\n",
       "    <tr>\n",
       "      <th>16</th>\n",
       "      <td>2</td>\n",
       "      <td>1</td>\n",
       "      <td>1</td>\n",
       "      <td>2</td>\n",
       "      <td>9999-99-99</td>\n",
       "      <td>2</td>\n",
       "      <td>1</td>\n",
       "      <td>80</td>\n",
       "      <td>2</td>\n",
       "      <td>2</td>\n",
       "      <td>...</td>\n",
       "      <td>2</td>\n",
       "      <td>2</td>\n",
       "      <td>1</td>\n",
       "      <td>2</td>\n",
       "      <td>2</td>\n",
       "      <td>2</td>\n",
       "      <td>2</td>\n",
       "      <td>2</td>\n",
       "      <td>3</td>\n",
       "      <td>1</td>\n",
       "    </tr>\n",
       "    <tr>\n",
       "      <th>56</th>\n",
       "      <td>2</td>\n",
       "      <td>1</td>\n",
       "      <td>1</td>\n",
       "      <td>2</td>\n",
       "      <td>9999-99-99</td>\n",
       "      <td>1</td>\n",
       "      <td>1</td>\n",
       "      <td>58</td>\n",
       "      <td>2</td>\n",
       "      <td>2</td>\n",
       "      <td>...</td>\n",
       "      <td>2</td>\n",
       "      <td>2</td>\n",
       "      <td>1</td>\n",
       "      <td>2</td>\n",
       "      <td>1</td>\n",
       "      <td>1</td>\n",
       "      <td>2</td>\n",
       "      <td>2</td>\n",
       "      <td>7</td>\n",
       "      <td>1</td>\n",
       "    </tr>\n",
       "  </tbody>\n",
       "</table>\n",
       "<p>5 rows × 21 columns</p>\n",
       "</div>"
      ],
      "text/plain": [
       "    USMER  MEDICAL_UNIT  SEX  PATIENT_TYPE   DATE_DIED  INTUBED  PNEUMONIA   \n",
       "5       2             1    1             2  9999-99-99        2          1  \\\n",
       "8       2             1    1             2  9999-99-99        2          2   \n",
       "9       2             1    1             2  9999-99-99        2          2   \n",
       "16      2             1    1             2  9999-99-99        2          1   \n",
       "56      2             1    1             2  9999-99-99        1          1   \n",
       "\n",
       "    AGE  PREGNANT  DIABETES  ...  ASTHMA  INMSUPR  HIPERTENSION   \n",
       "5    40         2         2  ...       2        2             2  \\\n",
       "8    37         2         1  ...       2        2             1   \n",
       "9    25         2         2  ...       2        2             2   \n",
       "16   80         2         2  ...       2        2             1   \n",
       "56   58         2         2  ...       2        2             1   \n",
       "\n",
       "    OTHER_DISEASE  CARDIOVASCULAR  OBESITY  RENAL_CHRONIC  TOBACCO   \n",
       "5               2               2        2              2        2  \\\n",
       "8               2               2        1              2        2   \n",
       "9               2               2        2              2        2   \n",
       "16              2               2        2              2        2   \n",
       "56              2               1        1              2        2   \n",
       "\n",
       "    CLASIFFICATION_FINAL  ICU  \n",
       "5                      3    2  \n",
       "8                      3    2  \n",
       "9                      3    2  \n",
       "16                     3    1  \n",
       "56                     7    1  \n",
       "\n",
       "[5 rows x 21 columns]"
      ]
     },
     "execution_count": 146,
     "metadata": {},
     "output_type": "execute_result"
    }
   ],
   "source": [
    "COVID1.head ()"
   ]
  },
  {
   "cell_type": "code",
   "execution_count": 147,
   "id": "68f9e0f0-408b-4992-927e-84f2ce2aa451",
   "metadata": {
    "tags": []
   },
   "outputs": [
    {
     "data": {
      "text/plain": [
       "76832"
      ]
     },
     "execution_count": 147,
     "metadata": {},
     "output_type": "execute_result"
    }
   ],
   "source": [
    "len(COVID1)"
   ]
  },
  {
   "cell_type": "markdown",
   "id": "45a6a5a7-380b-43e0-9c52-9fb008944ada",
   "metadata": {},
   "source": [
    "# Eliminamos lo que no vamos a utilizar"
   ]
  },
  {
   "cell_type": "code",
   "execution_count": 148,
   "id": "e03b3702-7c59-408c-9a8b-ede721378714",
   "metadata": {
    "tags": []
   },
   "outputs": [
    {
     "name": "stderr",
     "output_type": "stream",
     "text": [
      "C:\\Users\\Fabio\\AppData\\Local\\Temp\\ipykernel_13144\\2447098155.py:1: SettingWithCopyWarning: \n",
      "A value is trying to be set on a copy of a slice from a DataFrame\n",
      "\n",
      "See the caveats in the documentation: https://pandas.pydata.org/pandas-docs/stable/user_guide/indexing.html#returning-a-view-versus-a-copy\n",
      "  COVID1.drop ('USMER', axis = 1, inplace = True)\n",
      "C:\\Users\\Fabio\\AppData\\Local\\Temp\\ipykernel_13144\\2447098155.py:2: SettingWithCopyWarning: \n",
      "A value is trying to be set on a copy of a slice from a DataFrame\n",
      "\n",
      "See the caveats in the documentation: https://pandas.pydata.org/pandas-docs/stable/user_guide/indexing.html#returning-a-view-versus-a-copy\n",
      "  COVID1.drop ('MEDICAL_UNIT', axis = 1, inplace = True)\n",
      "C:\\Users\\Fabio\\AppData\\Local\\Temp\\ipykernel_13144\\2447098155.py:3: SettingWithCopyWarning: \n",
      "A value is trying to be set on a copy of a slice from a DataFrame\n",
      "\n",
      "See the caveats in the documentation: https://pandas.pydata.org/pandas-docs/stable/user_guide/indexing.html#returning-a-view-versus-a-copy\n",
      "  COVID1.drop ('INMSUPR', axis = 1, inplace = True)\n",
      "C:\\Users\\Fabio\\AppData\\Local\\Temp\\ipykernel_13144\\2447098155.py:4: SettingWithCopyWarning: \n",
      "A value is trying to be set on a copy of a slice from a DataFrame\n",
      "\n",
      "See the caveats in the documentation: https://pandas.pydata.org/pandas-docs/stable/user_guide/indexing.html#returning-a-view-versus-a-copy\n",
      "  COVID1.drop ('CLASIFFICATION_FINAL', axis = 1, inplace = True)\n",
      "C:\\Users\\Fabio\\AppData\\Local\\Temp\\ipykernel_13144\\2447098155.py:5: SettingWithCopyWarning: \n",
      "A value is trying to be set on a copy of a slice from a DataFrame\n",
      "\n",
      "See the caveats in the documentation: https://pandas.pydata.org/pandas-docs/stable/user_guide/indexing.html#returning-a-view-versus-a-copy\n",
      "  COVID1.drop ('ICU', axis = 1, inplace = True)\n",
      "C:\\Users\\Fabio\\AppData\\Local\\Temp\\ipykernel_13144\\2447098155.py:6: SettingWithCopyWarning: \n",
      "A value is trying to be set on a copy of a slice from a DataFrame\n",
      "\n",
      "See the caveats in the documentation: https://pandas.pydata.org/pandas-docs/stable/user_guide/indexing.html#returning-a-view-versus-a-copy\n",
      "  COVID1.drop ('SEX', axis = 1, inplace = True)\n"
     ]
    }
   ],
   "source": [
    "COVID1.drop ('USMER', axis = 1, inplace = True)\n",
    "COVID1.drop ('MEDICAL_UNIT', axis = 1, inplace = True)\n",
    "COVID1.drop ('INMSUPR', axis = 1, inplace = True)\n",
    "COVID1.drop ('CLASIFFICATION_FINAL', axis = 1, inplace = True)\n",
    "COVID1.drop ('ICU', axis = 1, inplace = True)\n",
    "COVID1.drop ('SEX', axis = 1, inplace = True)"
   ]
  },
  {
   "cell_type": "code",
   "execution_count": 149,
   "id": "a19f8a4b-c04b-403b-92be-6dd88b7582d7",
   "metadata": {
    "tags": []
   },
   "outputs": [
    {
     "data": {
      "text/html": [
       "<div>\n",
       "<style scoped>\n",
       "    .dataframe tbody tr th:only-of-type {\n",
       "        vertical-align: middle;\n",
       "    }\n",
       "\n",
       "    .dataframe tbody tr th {\n",
       "        vertical-align: top;\n",
       "    }\n",
       "\n",
       "    .dataframe thead th {\n",
       "        text-align: right;\n",
       "    }\n",
       "</style>\n",
       "<table border=\"1\" class=\"dataframe\">\n",
       "  <thead>\n",
       "    <tr style=\"text-align: right;\">\n",
       "      <th></th>\n",
       "      <th>PATIENT_TYPE</th>\n",
       "      <th>DATE_DIED</th>\n",
       "      <th>INTUBED</th>\n",
       "      <th>PNEUMONIA</th>\n",
       "      <th>AGE</th>\n",
       "      <th>PREGNANT</th>\n",
       "      <th>DIABETES</th>\n",
       "      <th>COPD</th>\n",
       "      <th>ASTHMA</th>\n",
       "      <th>HIPERTENSION</th>\n",
       "      <th>OTHER_DISEASE</th>\n",
       "      <th>CARDIOVASCULAR</th>\n",
       "      <th>OBESITY</th>\n",
       "      <th>RENAL_CHRONIC</th>\n",
       "      <th>TOBACCO</th>\n",
       "    </tr>\n",
       "  </thead>\n",
       "  <tbody>\n",
       "    <tr>\n",
       "      <th>5</th>\n",
       "      <td>2</td>\n",
       "      <td>9999-99-99</td>\n",
       "      <td>2</td>\n",
       "      <td>1</td>\n",
       "      <td>40</td>\n",
       "      <td>2</td>\n",
       "      <td>2</td>\n",
       "      <td>2</td>\n",
       "      <td>2</td>\n",
       "      <td>2</td>\n",
       "      <td>2</td>\n",
       "      <td>2</td>\n",
       "      <td>2</td>\n",
       "      <td>2</td>\n",
       "      <td>2</td>\n",
       "    </tr>\n",
       "    <tr>\n",
       "      <th>8</th>\n",
       "      <td>2</td>\n",
       "      <td>9999-99-99</td>\n",
       "      <td>2</td>\n",
       "      <td>2</td>\n",
       "      <td>37</td>\n",
       "      <td>2</td>\n",
       "      <td>1</td>\n",
       "      <td>2</td>\n",
       "      <td>2</td>\n",
       "      <td>1</td>\n",
       "      <td>2</td>\n",
       "      <td>2</td>\n",
       "      <td>1</td>\n",
       "      <td>2</td>\n",
       "      <td>2</td>\n",
       "    </tr>\n",
       "    <tr>\n",
       "      <th>9</th>\n",
       "      <td>2</td>\n",
       "      <td>9999-99-99</td>\n",
       "      <td>2</td>\n",
       "      <td>2</td>\n",
       "      <td>25</td>\n",
       "      <td>2</td>\n",
       "      <td>2</td>\n",
       "      <td>2</td>\n",
       "      <td>2</td>\n",
       "      <td>2</td>\n",
       "      <td>2</td>\n",
       "      <td>2</td>\n",
       "      <td>2</td>\n",
       "      <td>2</td>\n",
       "      <td>2</td>\n",
       "    </tr>\n",
       "    <tr>\n",
       "      <th>16</th>\n",
       "      <td>2</td>\n",
       "      <td>9999-99-99</td>\n",
       "      <td>2</td>\n",
       "      <td>1</td>\n",
       "      <td>80</td>\n",
       "      <td>2</td>\n",
       "      <td>2</td>\n",
       "      <td>2</td>\n",
       "      <td>2</td>\n",
       "      <td>1</td>\n",
       "      <td>2</td>\n",
       "      <td>2</td>\n",
       "      <td>2</td>\n",
       "      <td>2</td>\n",
       "      <td>2</td>\n",
       "    </tr>\n",
       "    <tr>\n",
       "      <th>56</th>\n",
       "      <td>2</td>\n",
       "      <td>9999-99-99</td>\n",
       "      <td>1</td>\n",
       "      <td>1</td>\n",
       "      <td>58</td>\n",
       "      <td>2</td>\n",
       "      <td>2</td>\n",
       "      <td>2</td>\n",
       "      <td>2</td>\n",
       "      <td>1</td>\n",
       "      <td>2</td>\n",
       "      <td>1</td>\n",
       "      <td>1</td>\n",
       "      <td>2</td>\n",
       "      <td>2</td>\n",
       "    </tr>\n",
       "  </tbody>\n",
       "</table>\n",
       "</div>"
      ],
      "text/plain": [
       "    PATIENT_TYPE   DATE_DIED  INTUBED  PNEUMONIA  AGE  PREGNANT  DIABETES   \n",
       "5              2  9999-99-99        2          1   40         2         2  \\\n",
       "8              2  9999-99-99        2          2   37         2         1   \n",
       "9              2  9999-99-99        2          2   25         2         2   \n",
       "16             2  9999-99-99        2          1   80         2         2   \n",
       "56             2  9999-99-99        1          1   58         2         2   \n",
       "\n",
       "    COPD  ASTHMA  HIPERTENSION  OTHER_DISEASE  CARDIOVASCULAR  OBESITY   \n",
       "5      2       2             2              2               2        2  \\\n",
       "8      2       2             1              2               2        1   \n",
       "9      2       2             2              2               2        2   \n",
       "16     2       2             1              2               2        2   \n",
       "56     2       2             1              2               1        1   \n",
       "\n",
       "    RENAL_CHRONIC  TOBACCO  \n",
       "5               2        2  \n",
       "8               2        2  \n",
       "9               2        2  \n",
       "16              2        2  \n",
       "56              2        2  "
      ]
     },
     "execution_count": 149,
     "metadata": {},
     "output_type": "execute_result"
    }
   ],
   "source": [
    "COVID1.head ()"
   ]
  },
  {
   "cell_type": "code",
   "execution_count": 150,
   "id": "e90f9f6e-ee40-417e-b861-0da8d1ab66d5",
   "metadata": {
    "tags": []
   },
   "outputs": [
    {
     "name": "stdout",
     "output_type": "stream",
     "text": [
      "<class 'pandas.core.frame.DataFrame'>\n",
      "Index: 76832 entries, 5 to 1048569\n",
      "Data columns (total 15 columns):\n",
      " #   Column          Non-Null Count  Dtype \n",
      "---  ------          --------------  ----- \n",
      " 0   PATIENT_TYPE    76832 non-null  int64 \n",
      " 1   DATE_DIED       76832 non-null  object\n",
      " 2   INTUBED         76832 non-null  int64 \n",
      " 3   PNEUMONIA       76832 non-null  int64 \n",
      " 4   AGE             76832 non-null  int64 \n",
      " 5   PREGNANT        76832 non-null  int64 \n",
      " 6   DIABETES        76832 non-null  int64 \n",
      " 7   COPD            76832 non-null  int64 \n",
      " 8   ASTHMA          76832 non-null  int64 \n",
      " 9   HIPERTENSION    76832 non-null  int64 \n",
      " 10  OTHER_DISEASE   76832 non-null  int64 \n",
      " 11  CARDIOVASCULAR  76832 non-null  int64 \n",
      " 12  OBESITY         76832 non-null  int64 \n",
      " 13  RENAL_CHRONIC   76832 non-null  int64 \n",
      " 14  TOBACCO         76832 non-null  int64 \n",
      "dtypes: int64(14), object(1)\n",
      "memory usage: 9.4+ MB\n"
     ]
    }
   ],
   "source": [
    "COVID1.info ()"
   ]
  },
  {
   "cell_type": "code",
   "execution_count": 151,
   "id": "43aca8a4-20b0-4c93-b8e8-9357af4fb065",
   "metadata": {
    "tags": []
   },
   "outputs": [
    {
     "data": {
      "text/plain": [
       "Index(['PATIENT_TYPE', 'DATE_DIED', 'INTUBED', 'PNEUMONIA', 'AGE', 'PREGNANT',\n",
       "       'DIABETES', 'COPD', 'ASTHMA', 'HIPERTENSION', 'OTHER_DISEASE',\n",
       "       'CARDIOVASCULAR', 'OBESITY', 'RENAL_CHRONIC', 'TOBACCO'],\n",
       "      dtype='object')"
      ]
     },
     "execution_count": 151,
     "metadata": {},
     "output_type": "execute_result"
    }
   ],
   "source": [
    "COVID1.columns"
   ]
  },
  {
   "cell_type": "code",
   "execution_count": 152,
   "id": "16259aac-7755-4d85-a614-8a1bda6d65e3",
   "metadata": {
    "tags": []
   },
   "outputs": [
    {
     "data": {
      "text/plain": [
       "<Axes: xlabel='INTUBED', ylabel='count'>"
      ]
     },
     "execution_count": 152,
     "metadata": {},
     "output_type": "execute_result"
    },
    {
     "data": {
      "image/png": "[encoded data removed]",
      "text/plain": [
       "<Figure size 640x480 with 1 Axes>"
      ]
     },
     "metadata": {},
     "output_type": "display_data"
    }
   ],
   "source": [
    "sns.countplot(x='INTUBED' , data=COVID1 , palette='hls')"
   ]
  },
  {
   "cell_type": "code",
   "execution_count": 153,
   "id": "608dcda8-a9d8-41dc-bc51-f6b1ad3e2b1d",
   "metadata": {
    "tags": []
   },
   "outputs": [
    {
     "data": {
      "text/plain": [
       "<Axes: xlabel='ASTHMA', ylabel='count'>"
      ]
     },
     "execution_count": 153,
     "metadata": {},
     "output_type": "execute_result"
    },
    {
     "data": {
      "image/png": "[encoded data removed]",
      "text/plain": [
       "<Figure size 640x480 with 1 Axes>"
      ]
     },
     "metadata": {},
     "output_type": "display_data"
    }
   ],
   "source": [
    "sns.countplot(x='ASTHMA' , data=COVID1 , palette='hls')"
   ]
  },
  {
   "cell_type": "code",
   "execution_count": 154,
   "id": "4aba83ef-d230-4e08-bf52-8c5b43d23596",
   "metadata": {
    "tags": []
   },
   "outputs": [
    {
     "data": {
      "text/plain": [
       "<Axes: xlabel='COPD', ylabel='count'>"
      ]
     },
     "execution_count": 154,
     "metadata": {},
     "output_type": "execute_result"
    },
    {
     "data": {
      "image/png": "[encoded data removed]",
      "text/plain": [
       "<Figure size 640x480 with 1 Axes>"
      ]
     },
     "metadata": {},
     "output_type": "display_data"
    }
   ],
   "source": [
    "sns.countplot(x='COPD' , data=COVID1 , palette='hls')"
   ]
  },
  {
   "cell_type": "markdown",
   "id": "c41f2f45-b5e8-4216-8c0b-bf8a6fe227ed",
   "metadata": {},
   "source": [
    "# Ejercicio Regresiones:"
   ]
  },
  {
   "cell_type": "raw",
   "id": "f5b7979c-39cf-4b69-bd83-93958cdd94df",
   "metadata": {},
   "source": [
    "Transformamos los datos a valores binarios 0 y 1 ,donde los 1 (yes) se quedan como 1 y los 2 (no) se cambian a 0.\n",
    "Fecha de muerte será 1 si muere (fecha válida) y 0 si no muere (fecha 9999-99-99)\n",
    "La edad se clasificará como 1 mayor a 60 año y como 0 menor a 60 años."
   ]
  },
  {
   "cell_type": "code",
   "execution_count": 155,
   "id": "81c6a05e-0f19-4885-b8dc-12ae2e514049",
   "metadata": {
    "tags": []
   },
   "outputs": [
    {
     "name": "stderr",
     "output_type": "stream",
     "text": [
      "C:\\Users\\Fabio\\AppData\\Local\\Temp\\ipykernel_13144\\1116221112.py:1: SettingWithCopyWarning: \n",
      "A value is trying to be set on a copy of a slice from a DataFrame.\n",
      "Try using .loc[row_indexer,col_indexer] = value instead\n",
      "\n",
      "See the caveats in the documentation: https://pandas.pydata.org/pandas-docs/stable/user_guide/indexing.html#returning-a-view-versus-a-copy\n",
      "  COVID1['DATE_DIED'] = (COVID1['DATE_DIED'] != '9999-99-99').astype(int)\n"
     ]
    }
   ],
   "source": [
    "COVID1['DATE_DIED'] = (COVID1['DATE_DIED'] != '9999-99-99').astype(int)"
   ]
  },
  {
   "cell_type": "code",
   "execution_count": 156,
   "id": "d7289a58-5c84-4658-ac6d-924bc25adf9a",
   "metadata": {
    "tags": []
   },
   "outputs": [
    {
     "data": {
      "text/html": [
       "<div>\n",
       "<style scoped>\n",
       "    .dataframe tbody tr th:only-of-type {\n",
       "        vertical-align: middle;\n",
       "    }\n",
       "\n",
       "    .dataframe tbody tr th {\n",
       "        vertical-align: top;\n",
       "    }\n",
       "\n",
       "    .dataframe thead th {\n",
       "        text-align: right;\n",
       "    }\n",
       "</style>\n",
       "<table border=\"1\" class=\"dataframe\">\n",
       "  <thead>\n",
       "    <tr style=\"text-align: right;\">\n",
       "      <th></th>\n",
       "      <th>PATIENT_TYPE</th>\n",
       "      <th>DATE_DIED</th>\n",
       "      <th>INTUBED</th>\n",
       "      <th>PNEUMONIA</th>\n",
       "      <th>AGE</th>\n",
       "      <th>PREGNANT</th>\n",
       "      <th>DIABETES</th>\n",
       "      <th>COPD</th>\n",
       "      <th>ASTHMA</th>\n",
       "      <th>HIPERTENSION</th>\n",
       "      <th>OTHER_DISEASE</th>\n",
       "      <th>CARDIOVASCULAR</th>\n",
       "      <th>OBESITY</th>\n",
       "      <th>RENAL_CHRONIC</th>\n",
       "      <th>TOBACCO</th>\n",
       "    </tr>\n",
       "  </thead>\n",
       "  <tbody>\n",
       "    <tr>\n",
       "      <th>5</th>\n",
       "      <td>2</td>\n",
       "      <td>0</td>\n",
       "      <td>2</td>\n",
       "      <td>1</td>\n",
       "      <td>40</td>\n",
       "      <td>2</td>\n",
       "      <td>2</td>\n",
       "      <td>2</td>\n",
       "      <td>2</td>\n",
       "      <td>2</td>\n",
       "      <td>2</td>\n",
       "      <td>2</td>\n",
       "      <td>2</td>\n",
       "      <td>2</td>\n",
       "      <td>2</td>\n",
       "    </tr>\n",
       "    <tr>\n",
       "      <th>8</th>\n",
       "      <td>2</td>\n",
       "      <td>0</td>\n",
       "      <td>2</td>\n",
       "      <td>2</td>\n",
       "      <td>37</td>\n",
       "      <td>2</td>\n",
       "      <td>1</td>\n",
       "      <td>2</td>\n",
       "      <td>2</td>\n",
       "      <td>1</td>\n",
       "      <td>2</td>\n",
       "      <td>2</td>\n",
       "      <td>1</td>\n",
       "      <td>2</td>\n",
       "      <td>2</td>\n",
       "    </tr>\n",
       "    <tr>\n",
       "      <th>9</th>\n",
       "      <td>2</td>\n",
       "      <td>0</td>\n",
       "      <td>2</td>\n",
       "      <td>2</td>\n",
       "      <td>25</td>\n",
       "      <td>2</td>\n",
       "      <td>2</td>\n",
       "      <td>2</td>\n",
       "      <td>2</td>\n",
       "      <td>2</td>\n",
       "      <td>2</td>\n",
       "      <td>2</td>\n",
       "      <td>2</td>\n",
       "      <td>2</td>\n",
       "      <td>2</td>\n",
       "    </tr>\n",
       "    <tr>\n",
       "      <th>16</th>\n",
       "      <td>2</td>\n",
       "      <td>0</td>\n",
       "      <td>2</td>\n",
       "      <td>1</td>\n",
       "      <td>80</td>\n",
       "      <td>2</td>\n",
       "      <td>2</td>\n",
       "      <td>2</td>\n",
       "      <td>2</td>\n",
       "      <td>1</td>\n",
       "      <td>2</td>\n",
       "      <td>2</td>\n",
       "      <td>2</td>\n",
       "      <td>2</td>\n",
       "      <td>2</td>\n",
       "    </tr>\n",
       "    <tr>\n",
       "      <th>56</th>\n",
       "      <td>2</td>\n",
       "      <td>0</td>\n",
       "      <td>1</td>\n",
       "      <td>1</td>\n",
       "      <td>58</td>\n",
       "      <td>2</td>\n",
       "      <td>2</td>\n",
       "      <td>2</td>\n",
       "      <td>2</td>\n",
       "      <td>1</td>\n",
       "      <td>2</td>\n",
       "      <td>1</td>\n",
       "      <td>1</td>\n",
       "      <td>2</td>\n",
       "      <td>2</td>\n",
       "    </tr>\n",
       "  </tbody>\n",
       "</table>\n",
       "</div>"
      ],
      "text/plain": [
       "    PATIENT_TYPE  DATE_DIED  INTUBED  PNEUMONIA  AGE  PREGNANT  DIABETES   \n",
       "5              2          0        2          1   40         2         2  \\\n",
       "8              2          0        2          2   37         2         1   \n",
       "9              2          0        2          2   25         2         2   \n",
       "16             2          0        2          1   80         2         2   \n",
       "56             2          0        1          1   58         2         2   \n",
       "\n",
       "    COPD  ASTHMA  HIPERTENSION  OTHER_DISEASE  CARDIOVASCULAR  OBESITY   \n",
       "5      2       2             2              2               2        2  \\\n",
       "8      2       2             1              2               2        1   \n",
       "9      2       2             2              2               2        2   \n",
       "16     2       2             1              2               2        2   \n",
       "56     2       2             1              2               1        1   \n",
       "\n",
       "    RENAL_CHRONIC  TOBACCO  \n",
       "5               2        2  \n",
       "8               2        2  \n",
       "9               2        2  \n",
       "16              2        2  \n",
       "56              2        2  "
      ]
     },
     "execution_count": 156,
     "metadata": {},
     "output_type": "execute_result"
    }
   ],
   "source": [
    "COVID1.head ()"
   ]
  },
  {
   "cell_type": "code",
   "execution_count": 157,
   "id": "aadbabdb-8715-413d-9669-d857361cb57d",
   "metadata": {
    "tags": []
   },
   "outputs": [
    {
     "data": {
      "text/plain": [
       "<Axes: xlabel='DATE_DIED', ylabel='count'>"
      ]
     },
     "execution_count": 157,
     "metadata": {},
     "output_type": "execute_result"
    },
    {
     "data": {
      "image/png": "[encoded data removed]",
      "text/plain": [
       "<Figure size 640x480 with 1 Axes>"
      ]
     },
     "metadata": {},
     "output_type": "display_data"
    }
   ],
   "source": [
    "sns.countplot(x='DATE_DIED' , data=COVID1 , palette='hls')"
   ]
  },
  {
   "cell_type": "code",
   "execution_count": 158,
   "id": "0dd02d56-9d37-475a-93d9-5d494657a8cb",
   "metadata": {
    "tags": []
   },
   "outputs": [
    {
     "name": "stderr",
     "output_type": "stream",
     "text": [
      "C:\\Users\\Fabio\\AppData\\Local\\Temp\\ipykernel_13144\\2419981704.py:5: SettingWithCopyWarning: \n",
      "A value is trying to be set on a copy of a slice from a DataFrame.\n",
      "Try using .loc[row_indexer,col_indexer] = value instead\n",
      "\n",
      "See the caveats in the documentation: https://pandas.pydata.org/pandas-docs/stable/user_guide/indexing.html#returning-a-view-versus-a-copy\n",
      "  COVID1[columna] = COVID1[columna].replace({2: 0, 1: 1})\n"
     ]
    }
   ],
   "source": [
    "columna = ['PATIENT_TYPE', 'DATE_DIED', 'INTUBED', 'PNEUMONIA', 'AGE',\n",
    "                     'PREGNANT', 'DIABETES', 'COPD', 'ASTHMA', 'HIPERTENSION',\n",
    "                     'OTHER_DISEASE', 'CARDIOVASCULAR', 'OBESITY', 'RENAL_CHRONIC',\n",
    "                     'TOBACCO']\n",
    "COVID1[columna] = COVID1[columna].replace({2: 0, 1: 1})"
   ]
  },
  {
   "cell_type": "code",
   "execution_count": 159,
   "id": "d301aae0-326d-42ef-bc39-33a5d88f1e94",
   "metadata": {
    "tags": []
   },
   "outputs": [
    {
     "data": {
      "text/html": [
       "<div>\n",
       "<style scoped>\n",
       "    .dataframe tbody tr th:only-of-type {\n",
       "        vertical-align: middle;\n",
       "    }\n",
       "\n",
       "    .dataframe tbody tr th {\n",
       "        vertical-align: top;\n",
       "    }\n",
       "\n",
       "    .dataframe thead th {\n",
       "        text-align: right;\n",
       "    }\n",
       "</style>\n",
       "<table border=\"1\" class=\"dataframe\">\n",
       "  <thead>\n",
       "    <tr style=\"text-align: right;\">\n",
       "      <th></th>\n",
       "      <th>PATIENT_TYPE</th>\n",
       "      <th>DATE_DIED</th>\n",
       "      <th>INTUBED</th>\n",
       "      <th>PNEUMONIA</th>\n",
       "      <th>AGE</th>\n",
       "      <th>PREGNANT</th>\n",
       "      <th>DIABETES</th>\n",
       "      <th>COPD</th>\n",
       "      <th>ASTHMA</th>\n",
       "      <th>HIPERTENSION</th>\n",
       "      <th>OTHER_DISEASE</th>\n",
       "      <th>CARDIOVASCULAR</th>\n",
       "      <th>OBESITY</th>\n",
       "      <th>RENAL_CHRONIC</th>\n",
       "      <th>TOBACCO</th>\n",
       "    </tr>\n",
       "  </thead>\n",
       "  <tbody>\n",
       "    <tr>\n",
       "      <th>5</th>\n",
       "      <td>0</td>\n",
       "      <td>0</td>\n",
       "      <td>0</td>\n",
       "      <td>1</td>\n",
       "      <td>40</td>\n",
       "      <td>0</td>\n",
       "      <td>0</td>\n",
       "      <td>0</td>\n",
       "      <td>0</td>\n",
       "      <td>0</td>\n",
       "      <td>0</td>\n",
       "      <td>0</td>\n",
       "      <td>0</td>\n",
       "      <td>0</td>\n",
       "      <td>0</td>\n",
       "    </tr>\n",
       "    <tr>\n",
       "      <th>8</th>\n",
       "      <td>0</td>\n",
       "      <td>0</td>\n",
       "      <td>0</td>\n",
       "      <td>0</td>\n",
       "      <td>37</td>\n",
       "      <td>0</td>\n",
       "      <td>1</td>\n",
       "      <td>0</td>\n",
       "      <td>0</td>\n",
       "      <td>1</td>\n",
       "      <td>0</td>\n",
       "      <td>0</td>\n",
       "      <td>1</td>\n",
       "      <td>0</td>\n",
       "      <td>0</td>\n",
       "    </tr>\n",
       "    <tr>\n",
       "      <th>9</th>\n",
       "      <td>0</td>\n",
       "      <td>0</td>\n",
       "      <td>0</td>\n",
       "      <td>0</td>\n",
       "      <td>25</td>\n",
       "      <td>0</td>\n",
       "      <td>0</td>\n",
       "      <td>0</td>\n",
       "      <td>0</td>\n",
       "      <td>0</td>\n",
       "      <td>0</td>\n",
       "      <td>0</td>\n",
       "      <td>0</td>\n",
       "      <td>0</td>\n",
       "      <td>0</td>\n",
       "    </tr>\n",
       "    <tr>\n",
       "      <th>16</th>\n",
       "      <td>0</td>\n",
       "      <td>0</td>\n",
       "      <td>0</td>\n",
       "      <td>1</td>\n",
       "      <td>80</td>\n",
       "      <td>0</td>\n",
       "      <td>0</td>\n",
       "      <td>0</td>\n",
       "      <td>0</td>\n",
       "      <td>1</td>\n",
       "      <td>0</td>\n",
       "      <td>0</td>\n",
       "      <td>0</td>\n",
       "      <td>0</td>\n",
       "      <td>0</td>\n",
       "    </tr>\n",
       "    <tr>\n",
       "      <th>56</th>\n",
       "      <td>0</td>\n",
       "      <td>0</td>\n",
       "      <td>1</td>\n",
       "      <td>1</td>\n",
       "      <td>58</td>\n",
       "      <td>0</td>\n",
       "      <td>0</td>\n",
       "      <td>0</td>\n",
       "      <td>0</td>\n",
       "      <td>1</td>\n",
       "      <td>0</td>\n",
       "      <td>1</td>\n",
       "      <td>1</td>\n",
       "      <td>0</td>\n",
       "      <td>0</td>\n",
       "    </tr>\n",
       "  </tbody>\n",
       "</table>\n",
       "</div>"
      ],
      "text/plain": [
       "    PATIENT_TYPE  DATE_DIED  INTUBED  PNEUMONIA  AGE  PREGNANT  DIABETES   \n",
       "5              0          0        0          1   40         0         0  \\\n",
       "8              0          0        0          0   37         0         1   \n",
       "9              0          0        0          0   25         0         0   \n",
       "16             0          0        0          1   80         0         0   \n",
       "56             0          0        1          1   58         0         0   \n",
       "\n",
       "    COPD  ASTHMA  HIPERTENSION  OTHER_DISEASE  CARDIOVASCULAR  OBESITY   \n",
       "5      0       0             0              0               0        0  \\\n",
       "8      0       0             1              0               0        1   \n",
       "9      0       0             0              0               0        0   \n",
       "16     0       0             1              0               0        0   \n",
       "56     0       0             1              0               1        1   \n",
       "\n",
       "    RENAL_CHRONIC  TOBACCO  \n",
       "5               0        0  \n",
       "8               0        0  \n",
       "9               0        0  \n",
       "16              0        0  \n",
       "56              0        0  "
      ]
     },
     "execution_count": 159,
     "metadata": {},
     "output_type": "execute_result"
    }
   ],
   "source": [
    "COVID1.head ()"
   ]
  },
  {
   "cell_type": "code",
   "execution_count": 161,
   "id": "17aba372-38dc-4418-b960-309de453a78d",
   "metadata": {
    "tags": []
   },
   "outputs": [
    {
     "name": "stderr",
     "output_type": "stream",
     "text": [
      "C:\\Users\\Fabio\\AppData\\Local\\Temp\\ipykernel_13144\\1012308835.py:1: SettingWithCopyWarning: \n",
      "A value is trying to be set on a copy of a slice from a DataFrame.\n",
      "Try using .loc[row_indexer,col_indexer] = value instead\n",
      "\n",
      "See the caveats in the documentation: https://pandas.pydata.org/pandas-docs/stable/user_guide/indexing.html#returning-a-view-versus-a-copy\n",
      "  COVID1['AGE'] = COVID1['AGE'].apply(lambda x: 0 if x <= 59 else 1)\n"
     ]
    }
   ],
   "source": [
    "COVID1['AGE'] = COVID1['AGE'].apply(lambda x: 0 if x <= 59 else 1)"
   ]
  },
  {
   "cell_type": "code",
   "execution_count": 162,
   "id": "0ef57d4a-205a-4349-9475-4322395b2d7d",
   "metadata": {
    "tags": []
   },
   "outputs": [
    {
     "data": {
      "text/html": [
       "<div>\n",
       "<style scoped>\n",
       "    .dataframe tbody tr th:only-of-type {\n",
       "        vertical-align: middle;\n",
       "    }\n",
       "\n",
       "    .dataframe tbody tr th {\n",
       "        vertical-align: top;\n",
       "    }\n",
       "\n",
       "    .dataframe thead th {\n",
       "        text-align: right;\n",
       "    }\n",
       "</style>\n",
       "<table border=\"1\" class=\"dataframe\">\n",
       "  <thead>\n",
       "    <tr style=\"text-align: right;\">\n",
       "      <th></th>\n",
       "      <th>PATIENT_TYPE</th>\n",
       "      <th>DATE_DIED</th>\n",
       "      <th>INTUBED</th>\n",
       "      <th>PNEUMONIA</th>\n",
       "      <th>AGE</th>\n",
       "      <th>PREGNANT</th>\n",
       "      <th>DIABETES</th>\n",
       "      <th>COPD</th>\n",
       "      <th>ASTHMA</th>\n",
       "      <th>HIPERTENSION</th>\n",
       "      <th>OTHER_DISEASE</th>\n",
       "      <th>CARDIOVASCULAR</th>\n",
       "      <th>OBESITY</th>\n",
       "      <th>RENAL_CHRONIC</th>\n",
       "      <th>TOBACCO</th>\n",
       "    </tr>\n",
       "  </thead>\n",
       "  <tbody>\n",
       "    <tr>\n",
       "      <th>5</th>\n",
       "      <td>0</td>\n",
       "      <td>0</td>\n",
       "      <td>0</td>\n",
       "      <td>1</td>\n",
       "      <td>0</td>\n",
       "      <td>0</td>\n",
       "      <td>0</td>\n",
       "      <td>0</td>\n",
       "      <td>0</td>\n",
       "      <td>0</td>\n",
       "      <td>0</td>\n",
       "      <td>0</td>\n",
       "      <td>0</td>\n",
       "      <td>0</td>\n",
       "      <td>0</td>\n",
       "    </tr>\n",
       "    <tr>\n",
       "      <th>8</th>\n",
       "      <td>0</td>\n",
       "      <td>0</td>\n",
       "      <td>0</td>\n",
       "      <td>0</td>\n",
       "      <td>0</td>\n",
       "      <td>0</td>\n",
       "      <td>1</td>\n",
       "      <td>0</td>\n",
       "      <td>0</td>\n",
       "      <td>1</td>\n",
       "      <td>0</td>\n",
       "      <td>0</td>\n",
       "      <td>1</td>\n",
       "      <td>0</td>\n",
       "      <td>0</td>\n",
       "    </tr>\n",
       "    <tr>\n",
       "      <th>9</th>\n",
       "      <td>0</td>\n",
       "      <td>0</td>\n",
       "      <td>0</td>\n",
       "      <td>0</td>\n",
       "      <td>0</td>\n",
       "      <td>0</td>\n",
       "      <td>0</td>\n",
       "      <td>0</td>\n",
       "      <td>0</td>\n",
       "      <td>0</td>\n",
       "      <td>0</td>\n",
       "      <td>0</td>\n",
       "      <td>0</td>\n",
       "      <td>0</td>\n",
       "      <td>0</td>\n",
       "    </tr>\n",
       "    <tr>\n",
       "      <th>16</th>\n",
       "      <td>0</td>\n",
       "      <td>0</td>\n",
       "      <td>0</td>\n",
       "      <td>1</td>\n",
       "      <td>1</td>\n",
       "      <td>0</td>\n",
       "      <td>0</td>\n",
       "      <td>0</td>\n",
       "      <td>0</td>\n",
       "      <td>1</td>\n",
       "      <td>0</td>\n",
       "      <td>0</td>\n",
       "      <td>0</td>\n",
       "      <td>0</td>\n",
       "      <td>0</td>\n",
       "    </tr>\n",
       "    <tr>\n",
       "      <th>56</th>\n",
       "      <td>0</td>\n",
       "      <td>0</td>\n",
       "      <td>1</td>\n",
       "      <td>1</td>\n",
       "      <td>0</td>\n",
       "      <td>0</td>\n",
       "      <td>0</td>\n",
       "      <td>0</td>\n",
       "      <td>0</td>\n",
       "      <td>1</td>\n",
       "      <td>0</td>\n",
       "      <td>1</td>\n",
       "      <td>1</td>\n",
       "      <td>0</td>\n",
       "      <td>0</td>\n",
       "    </tr>\n",
       "  </tbody>\n",
       "</table>\n",
       "</div>"
      ],
      "text/plain": [
       "    PATIENT_TYPE  DATE_DIED  INTUBED  PNEUMONIA  AGE  PREGNANT  DIABETES   \n",
       "5              0          0        0          1    0         0         0  \\\n",
       "8              0          0        0          0    0         0         1   \n",
       "9              0          0        0          0    0         0         0   \n",
       "16             0          0        0          1    1         0         0   \n",
       "56             0          0        1          1    0         0         0   \n",
       "\n",
       "    COPD  ASTHMA  HIPERTENSION  OTHER_DISEASE  CARDIOVASCULAR  OBESITY   \n",
       "5      0       0             0              0               0        0  \\\n",
       "8      0       0             1              0               0        1   \n",
       "9      0       0             0              0               0        0   \n",
       "16     0       0             1              0               0        0   \n",
       "56     0       0             1              0               1        1   \n",
       "\n",
       "    RENAL_CHRONIC  TOBACCO  \n",
       "5               0        0  \n",
       "8               0        0  \n",
       "9               0        0  \n",
       "16              0        0  \n",
       "56              0        0  "
      ]
     },
     "execution_count": 162,
     "metadata": {},
     "output_type": "execute_result"
    }
   ],
   "source": [
    "COVID1.head ()"
   ]
  },
  {
   "cell_type": "markdown",
   "id": "4b6f32fe-0e9a-4409-869a-542415846ad3",
   "metadata": {},
   "source": [
    "## Hipótesis Regresión Lineal:"
   ]
  },
  {
   "cell_type": "markdown",
   "id": "27c74767-2067-4455-96b2-a36424de6118",
   "metadata": {},
   "source": [
    "### H1: La intubación de un paciente depende de si su edad es mayor a 60 años y si es consumidor de tabaco."
   ]
  },
  {
   "cell_type": "code",
   "execution_count": 164,
   "id": "14ad8995-9c39-461c-af5b-9aa9f1e1b979",
   "metadata": {
    "tags": []
   },
   "outputs": [
    {
     "data": {
      "text/html": [
       "<table class=\"simpletable\">\n",
       "<caption>OLS Regression Results</caption>\n",
       "<tr>\n",
       "  <th>Dep. Variable:</th>         <td>INTUBED</td>     <th>  R-squared:         </th> <td>   0.010</td> \n",
       "</tr>\n",
       "<tr>\n",
       "  <th>Model:</th>                   <td>OLS</td>       <th>  Adj. R-squared:    </th> <td>   0.010</td> \n",
       "</tr>\n",
       "<tr>\n",
       "  <th>Method:</th>             <td>Least Squares</td>  <th>  F-statistic:       </th> <td>   403.8</td> \n",
       "</tr>\n",
       "<tr>\n",
       "  <th>Date:</th>             <td>Tue, 27 Jun 2023</td> <th>  Prob (F-statistic):</th> <td>3.38e-175</td>\n",
       "</tr>\n",
       "<tr>\n",
       "  <th>Time:</th>                 <td>16:41:53</td>     <th>  Log-Likelihood:    </th> <td> -29828.</td> \n",
       "</tr>\n",
       "<tr>\n",
       "  <th>No. Observations:</th>      <td> 76832</td>      <th>  AIC:               </th> <td>5.966e+04</td>\n",
       "</tr>\n",
       "<tr>\n",
       "  <th>Df Residuals:</th>          <td> 76829</td>      <th>  BIC:               </th> <td>5.969e+04</td>\n",
       "</tr>\n",
       "<tr>\n",
       "  <th>Df Model:</th>              <td>     2</td>      <th>                     </th>     <td> </td>    \n",
       "</tr>\n",
       "<tr>\n",
       "  <th>Covariance Type:</th>      <td>nonrobust</td>    <th>                     </th>     <td> </td>    \n",
       "</tr>\n",
       "</table>\n",
       "<table class=\"simpletable\">\n",
       "<tr>\n",
       "      <td></td>         <th>coef</th>     <th>std err</th>      <th>t</th>      <th>P>|t|</th>  <th>[0.025</th>    <th>0.975]</th>  \n",
       "</tr>\n",
       "<tr>\n",
       "  <th>Intercept</th> <td>    0.1213</td> <td>    0.002</td> <td>   71.689</td> <td> 0.000</td> <td>    0.118</td> <td>    0.125</td>\n",
       "</tr>\n",
       "<tr>\n",
       "  <th>AGE</th>       <td>    0.0744</td> <td>    0.003</td> <td>   28.420</td> <td> 0.000</td> <td>    0.069</td> <td>    0.080</td>\n",
       "</tr>\n",
       "<tr>\n",
       "  <th>TOBACCO</th>   <td>   -0.0022</td> <td>    0.006</td> <td>   -0.342</td> <td> 0.733</td> <td>   -0.015</td> <td>    0.010</td>\n",
       "</tr>\n",
       "</table>\n",
       "<table class=\"simpletable\">\n",
       "<tr>\n",
       "  <th>Omnibus:</th>       <td>24544.501</td> <th>  Durbin-Watson:     </th> <td>   1.576</td> \n",
       "</tr>\n",
       "<tr>\n",
       "  <th>Prob(Omnibus):</th>  <td> 0.000</td>   <th>  Jarque-Bera (JB):  </th> <td>56569.546</td>\n",
       "</tr>\n",
       "<tr>\n",
       "  <th>Skew:</th>           <td> 1.913</td>   <th>  Prob(JB):          </th> <td>    0.00</td> \n",
       "</tr>\n",
       "<tr>\n",
       "  <th>Kurtosis:</th>       <td> 4.742</td>   <th>  Cond. No.          </th> <td>    5.39</td> \n",
       "</tr>\n",
       "</table><br/><br/>Notes:<br/>[1] Standard Errors assume that the covariance matrix of the errors is correctly specified."
      ],
      "text/plain": [
       "<class 'statsmodels.iolib.summary.Summary'>\n",
       "\"\"\"\n",
       "                            OLS Regression Results                            \n",
       "==============================================================================\n",
       "Dep. Variable:                INTUBED   R-squared:                       0.010\n",
       "Model:                            OLS   Adj. R-squared:                  0.010\n",
       "Method:                 Least Squares   F-statistic:                     403.8\n",
       "Date:                Tue, 27 Jun 2023   Prob (F-statistic):          3.38e-175\n",
       "Time:                        16:41:53   Log-Likelihood:                -29828.\n",
       "No. Observations:               76832   AIC:                         5.966e+04\n",
       "Df Residuals:                   76829   BIC:                         5.969e+04\n",
       "Df Model:                           2                                         \n",
       "Covariance Type:            nonrobust                                         \n",
       "==============================================================================\n",
       "                 coef    std err          t      P>|t|      [0.025      0.975]\n",
       "------------------------------------------------------------------------------\n",
       "Intercept      0.1213      0.002     71.689      0.000       0.118       0.125\n",
       "AGE            0.0744      0.003     28.420      0.000       0.069       0.080\n",
       "TOBACCO       -0.0022      0.006     -0.342      0.733      -0.015       0.010\n",
       "==============================================================================\n",
       "Omnibus:                    24544.501   Durbin-Watson:                   1.576\n",
       "Prob(Omnibus):                  0.000   Jarque-Bera (JB):            56569.546\n",
       "Skew:                           1.913   Prob(JB):                         0.00\n",
       "Kurtosis:                       4.742   Cond. No.                         5.39\n",
       "==============================================================================\n",
       "\n",
       "Notes:\n",
       "[1] Standard Errors assume that the covariance matrix of the errors is correctly specified.\n",
       "\"\"\""
      ]
     },
     "execution_count": 164,
     "metadata": {},
     "output_type": "execute_result"
    }
   ],
   "source": [
    "formula_reg_lin = \"INTUBED ~ AGE + TOBACCO\"\n",
    "modelo_lin = smf.ols(formula_reg_lin, COVID1).fit()\n",
    "modelo_lin.summary()"
   ]
  },
  {
   "cell_type": "markdown",
   "id": "4b479a70-946c-45df-9650-e96de8f1fb23",
   "metadata": {},
   "source": [
    "### Se rechaza la hipótesis H1. Observando los coeficientes se observa que fumar tabaco o no no afecta a la desición de entubar a un paciente, por otro lado la edad si puede afectar a esta desición pero no es determinante.\n",
    "### En cocnlusión, el modelo propuesto no es adecuado para predecir si un paciente será entubado o no."
   ]
  },
  {
   "cell_type": "markdown",
   "id": "badfbb30-0236-4de7-8e75-6a0f98c92ce5",
   "metadata": {},
   "source": [
    "## Hipótesis Regresión Logística"
   ]
  },
  {
   "cell_type": "markdown",
   "id": "6cb948d4-275d-4b31-af56-a42b9e160cc8",
   "metadata": {
    "tags": []
   },
   "source": [
    "### H2: Que un paciente muera o nó, depende de su historial de enfermedades, de su edad y si consume tabaco o no."
   ]
  },
  {
   "cell_type": "code",
   "execution_count": 170,
   "id": "da0b964e-4f45-45cc-9978-3c230cb479a0",
   "metadata": {
    "tags": []
   },
   "outputs": [
    {
     "name": "stdout",
     "output_type": "stream",
     "text": [
      "Optimization terminated successfully.\n",
      "         Current function value: 0.597453\n",
      "         Iterations 5\n"
     ]
    },
    {
     "data": {
      "text/html": [
       "<table class=\"simpletable\">\n",
       "<caption>Logit Regression Results</caption>\n",
       "<tr>\n",
       "  <th>Dep. Variable:</th>       <td>DATE_DIED</td>    <th>  No. Observations:  </th>  <td> 76832</td> \n",
       "</tr>\n",
       "<tr>\n",
       "  <th>Model:</th>                 <td>Logit</td>      <th>  Df Residuals:      </th>  <td> 76822</td> \n",
       "</tr>\n",
       "<tr>\n",
       "  <th>Method:</th>                 <td>MLE</td>       <th>  Df Model:          </th>  <td>     9</td> \n",
       "</tr>\n",
       "<tr>\n",
       "  <th>Date:</th>            <td>Tue, 27 Jun 2023</td> <th>  Pseudo R-squ.:     </th>  <td>0.03555</td>\n",
       "</tr>\n",
       "<tr>\n",
       "  <th>Time:</th>                <td>16:52:47</td>     <th>  Log-Likelihood:    </th> <td> -45904.</td>\n",
       "</tr>\n",
       "<tr>\n",
       "  <th>converged:</th>             <td>True</td>       <th>  LL-Null:           </th> <td> -47596.</td>\n",
       "</tr>\n",
       "<tr>\n",
       "  <th>Covariance Type:</th>     <td>nonrobust</td>    <th>  LLR p-value:       </th>  <td> 0.000</td> \n",
       "</tr>\n",
       "</table>\n",
       "<table class=\"simpletable\">\n",
       "<tr>\n",
       "         <td></td>           <th>coef</th>     <th>std err</th>      <th>z</th>      <th>P>|z|</th>  <th>[0.025</th>    <th>0.975]</th>  \n",
       "</tr>\n",
       "<tr>\n",
       "  <th>Intercept</th>      <td>   -1.2318</td> <td>    0.012</td> <td> -102.182</td> <td> 0.000</td> <td>   -1.255</td> <td>   -1.208</td>\n",
       "</tr>\n",
       "<tr>\n",
       "  <th>DIABETES</th>       <td>    0.4722</td> <td>    0.018</td> <td>   26.420</td> <td> 0.000</td> <td>    0.437</td> <td>    0.507</td>\n",
       "</tr>\n",
       "<tr>\n",
       "  <th>COPD</th>           <td>    0.2659</td> <td>    0.036</td> <td>    7.488</td> <td> 0.000</td> <td>    0.196</td> <td>    0.336</td>\n",
       "</tr>\n",
       "<tr>\n",
       "  <th>ASTHMA</th>         <td>   -0.3923</td> <td>    0.047</td> <td>   -8.422</td> <td> 0.000</td> <td>   -0.484</td> <td>   -0.301</td>\n",
       "</tr>\n",
       "<tr>\n",
       "  <th>HIPERTENSION</th>   <td>    0.5685</td> <td>    0.018</td> <td>   31.973</td> <td> 0.000</td> <td>    0.534</td> <td>    0.603</td>\n",
       "</tr>\n",
       "<tr>\n",
       "  <th>OTHER_DISEASE</th>  <td>    0.1641</td> <td>    0.031</td> <td>    5.224</td> <td> 0.000</td> <td>    0.103</td> <td>    0.226</td>\n",
       "</tr>\n",
       "<tr>\n",
       "  <th>CARDIOVASCULAR</th> <td>   -0.0017</td> <td>    0.035</td> <td>   -0.050</td> <td> 0.960</td> <td>   -0.071</td> <td>    0.067</td>\n",
       "</tr>\n",
       "<tr>\n",
       "  <th>OBESITY</th>        <td>    0.1134</td> <td>    0.019</td> <td>    5.953</td> <td> 0.000</td> <td>    0.076</td> <td>    0.151</td>\n",
       "</tr>\n",
       "<tr>\n",
       "  <th>RENAL_CHRONIC</th>  <td>    0.1893</td> <td>    0.032</td> <td>    5.977</td> <td> 0.000</td> <td>    0.127</td> <td>    0.251</td>\n",
       "</tr>\n",
       "<tr>\n",
       "  <th>TOBACCO</th>        <td>   -0.1771</td> <td>    0.040</td> <td>   -4.438</td> <td> 0.000</td> <td>   -0.255</td> <td>   -0.099</td>\n",
       "</tr>\n",
       "</table>"
      ],
      "text/plain": [
       "<class 'statsmodels.iolib.summary.Summary'>\n",
       "\"\"\"\n",
       "                           Logit Regression Results                           \n",
       "==============================================================================\n",
       "Dep. Variable:              DATE_DIED   No. Observations:                76832\n",
       "Model:                          Logit   Df Residuals:                    76822\n",
       "Method:                           MLE   Df Model:                            9\n",
       "Date:                Tue, 27 Jun 2023   Pseudo R-squ.:                 0.03555\n",
       "Time:                        16:52:47   Log-Likelihood:                -45904.\n",
       "converged:                       True   LL-Null:                       -47596.\n",
       "Covariance Type:            nonrobust   LLR p-value:                     0.000\n",
       "==================================================================================\n",
       "                     coef    std err          z      P>|z|      [0.025      0.975]\n",
       "----------------------------------------------------------------------------------\n",
       "Intercept         -1.2318      0.012   -102.182      0.000      -1.255      -1.208\n",
       "DIABETES           0.4722      0.018     26.420      0.000       0.437       0.507\n",
       "COPD               0.2659      0.036      7.488      0.000       0.196       0.336\n",
       "ASTHMA            -0.3923      0.047     -8.422      0.000      -0.484      -0.301\n",
       "HIPERTENSION       0.5685      0.018     31.973      0.000       0.534       0.603\n",
       "OTHER_DISEASE      0.1641      0.031      5.224      0.000       0.103       0.226\n",
       "CARDIOVASCULAR    -0.0017      0.035     -0.050      0.960      -0.071       0.067\n",
       "OBESITY            0.1134      0.019      5.953      0.000       0.076       0.151\n",
       "RENAL_CHRONIC      0.1893      0.032      5.977      0.000       0.127       0.251\n",
       "TOBACCO           -0.1771      0.040     -4.438      0.000      -0.255      -0.099\n",
       "==================================================================================\n",
       "\"\"\""
      ]
     },
     "execution_count": 170,
     "metadata": {},
     "output_type": "execute_result"
    }
   ],
   "source": [
    "formula_reg_log = \"DATE_DIED ~ DIABETES + COPD + ASTHMA + HIPERTENSION + OTHER_DISEASE + CARDIOVASCULAR + OBESITY + RENAL_CHRONIC + TOBACCO\"\n",
    "\n",
    "modelo_log = smf.logit(formula_reg_log, COVID1).fit()\n",
    "modelo_log.summary()"
   ]
  },
  {
   "cell_type": "markdown",
   "id": "88e76037-bb82-4fab-92b1-4ba84a6eadba",
   "metadata": {},
   "source": [
    "### Dentro de los resultados observamos que algunas variables no son estadísticamente significativas para determinar relacion con la muerte o no del paciente (coeficientes negativos). Por otro lado si bien existen coeficentes que relacionan variables como hipertensión y diabetes con la variable dependiente de si muere o no el paciente, estos no muestran una fuerte relación.\n",
    "\n",
    "### En cocnlusión, la muerte de un paciente depednerá de otros factores más que los facotres analizados. Algunos de los factores si afectan a la muerte de un paciente pero en baja proporción."
   ]
  }
 ],
 "metadata": {
  "kernelspec": {
   "display_name": "Python 3 (ipykernel)",
   "language": "python",
   "name": "python3"
  },
  "language_info": {
   "codemirror_mode": {
    "name": "ipython",
    "version": 3
   },
   "file_extension": ".py",
   "mimetype": "text/x-python",
   "name": "python",
   "nbconvert_exporter": "python",
   "pygments_lexer": "ipython3",
   "version": "3.11.3"
  }
 },
 "nbformat": 4,
 "nbformat_minor": 5
}
