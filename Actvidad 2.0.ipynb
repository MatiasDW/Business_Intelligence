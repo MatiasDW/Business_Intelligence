{
 "cells": [
  {
   "cell_type": "markdown",
   "id": "35522904-e53a-415d-afef-5d8a2b2c0319",
   "metadata": {},
   "source": [
    "Utilizando la base de datos Kakadu realice lo siguiente:\n",
    "\n",
    "1) Estadisticos descriptivos, para explicar la BD. Recuerde utilizar todo lo aprendido en el curso\n",
    "2)Cree una hipótesis que se pueda comprobar utilizando regresión lineal, y compruebe si se cumple.\n",
    "3)Cree una hipótesis de clasificación, y compruebe si se cumple."
   ]
  },
  {
   "cell_type": "markdown",
   "id": "288bf2f3-eb6f-4118-91ea-914a930cc4a1",
   "metadata": {},
   "source": [
    "# IMPORTS"
   ]
  },
  {
   "cell_type": "code",
   "execution_count": 1,
   "id": "2e6a51cd-d381-4317-8701-fbd68d52adb4",
   "metadata": {
    "tags": []
   },
   "outputs": [],
   "source": [
    "import pandas as pd\n",
    "import matplotlib.pyplot as plt\n",
    "import seaborn as sns\n",
    "import numpy as np\n",
    "import statsmodels.formula.api as smf"
   ]
  },
  {
   "cell_type": "code",
   "execution_count": 2,
   "id": "1c615c7f-a6d5-46be-998e-e6d547f324b0",
   "metadata": {
    "tags": []
   },
   "outputs": [],
   "source": [
    "DATA = pd.read_csv('Kakadu.csv')"
   ]
  },
  {
   "cell_type": "markdown",
   "id": "2d1a0275-9896-4fe6-8dfa-200b47e3b34a",
   "metadata": {},
   "source": [
    "## 1) Descriptivos"
   ]
  },
  {
   "cell_type": "code",
   "execution_count": 4,
   "id": "e9a9c730-3c98-4b10-9375-1b0fe16471ab",
   "metadata": {
    "tags": []
   },
   "outputs": [
    {
     "data": {
      "text/html": [
       "<div>\n",
       "<style scoped>\n",
       "    .dataframe tbody tr th:only-of-type {\n",
       "        vertical-align: middle;\n",
       "    }\n",
       "\n",
       "    .dataframe tbody tr th {\n",
       "        vertical-align: top;\n",
       "    }\n",
       "\n",
       "    .dataframe thead th {\n",
       "        text-align: right;\n",
       "    }\n",
       "</style>\n",
       "<table border=\"1\" class=\"dataframe\">\n",
       "  <thead>\n",
       "    <tr style=\"text-align: right;\">\n",
       "      <th></th>\n",
       "      <th>lower</th>\n",
       "      <th>upper</th>\n",
       "      <th>answer</th>\n",
       "      <th>recparks</th>\n",
       "      <th>jobs</th>\n",
       "      <th>lowrisk</th>\n",
       "      <th>wildlife</th>\n",
       "      <th>future</th>\n",
       "      <th>aboriginal</th>\n",
       "      <th>finben</th>\n",
       "      <th>...</th>\n",
       "      <th>gov</th>\n",
       "      <th>envcon</th>\n",
       "      <th>vparks</th>\n",
       "      <th>tvenv</th>\n",
       "      <th>conservation</th>\n",
       "      <th>sex</th>\n",
       "      <th>age</th>\n",
       "      <th>schooling</th>\n",
       "      <th>income</th>\n",
       "      <th>major</th>\n",
       "    </tr>\n",
       "  </thead>\n",
       "  <tbody>\n",
       "    <tr>\n",
       "      <th>0</th>\n",
       "      <td>0</td>\n",
       "      <td>2</td>\n",
       "      <td>nn</td>\n",
       "      <td>3</td>\n",
       "      <td>1</td>\n",
       "      <td>5</td>\n",
       "      <td>5</td>\n",
       "      <td>1</td>\n",
       "      <td>1</td>\n",
       "      <td>1</td>\n",
       "      <td>...</td>\n",
       "      <td>1</td>\n",
       "      <td>yes</td>\n",
       "      <td>yes</td>\n",
       "      <td>1</td>\n",
       "      <td>no</td>\n",
       "      <td>male</td>\n",
       "      <td>27</td>\n",
       "      <td>3</td>\n",
       "      <td>25</td>\n",
       "      <td>no</td>\n",
       "    </tr>\n",
       "    <tr>\n",
       "      <th>1</th>\n",
       "      <td>0</td>\n",
       "      <td>2</td>\n",
       "      <td>nn</td>\n",
       "      <td>5</td>\n",
       "      <td>5</td>\n",
       "      <td>3</td>\n",
       "      <td>5</td>\n",
       "      <td>5</td>\n",
       "      <td>1</td>\n",
       "      <td>5</td>\n",
       "      <td>...</td>\n",
       "      <td>2</td>\n",
       "      <td>no</td>\n",
       "      <td>yes</td>\n",
       "      <td>3</td>\n",
       "      <td>no</td>\n",
       "      <td>female</td>\n",
       "      <td>32</td>\n",
       "      <td>4</td>\n",
       "      <td>9</td>\n",
       "      <td>no</td>\n",
       "    </tr>\n",
       "    <tr>\n",
       "      <th>2</th>\n",
       "      <td>0</td>\n",
       "      <td>2</td>\n",
       "      <td>nn</td>\n",
       "      <td>4</td>\n",
       "      <td>4</td>\n",
       "      <td>5</td>\n",
       "      <td>3</td>\n",
       "      <td>5</td>\n",
       "      <td>1</td>\n",
       "      <td>5</td>\n",
       "      <td>...</td>\n",
       "      <td>2</td>\n",
       "      <td>no</td>\n",
       "      <td>yes</td>\n",
       "      <td>2</td>\n",
       "      <td>no</td>\n",
       "      <td>male</td>\n",
       "      <td>32</td>\n",
       "      <td>4</td>\n",
       "      <td>25</td>\n",
       "      <td>yes</td>\n",
       "    </tr>\n",
       "    <tr>\n",
       "      <th>3</th>\n",
       "      <td>0</td>\n",
       "      <td>2</td>\n",
       "      <td>nn</td>\n",
       "      <td>1</td>\n",
       "      <td>2</td>\n",
       "      <td>4</td>\n",
       "      <td>5</td>\n",
       "      <td>3</td>\n",
       "      <td>4</td>\n",
       "      <td>3</td>\n",
       "      <td>...</td>\n",
       "      <td>1</td>\n",
       "      <td>yes</td>\n",
       "      <td>no</td>\n",
       "      <td>1</td>\n",
       "      <td>yes</td>\n",
       "      <td>female</td>\n",
       "      <td>70</td>\n",
       "      <td>6</td>\n",
       "      <td>25</td>\n",
       "      <td>no</td>\n",
       "    </tr>\n",
       "    <tr>\n",
       "      <th>4</th>\n",
       "      <td>0</td>\n",
       "      <td>2</td>\n",
       "      <td>nn</td>\n",
       "      <td>2</td>\n",
       "      <td>4</td>\n",
       "      <td>5</td>\n",
       "      <td>3</td>\n",
       "      <td>1</td>\n",
       "      <td>3</td>\n",
       "      <td>4</td>\n",
       "      <td>...</td>\n",
       "      <td>1</td>\n",
       "      <td>no</td>\n",
       "      <td>yes</td>\n",
       "      <td>3</td>\n",
       "      <td>no</td>\n",
       "      <td>male</td>\n",
       "      <td>32</td>\n",
       "      <td>5</td>\n",
       "      <td>35</td>\n",
       "      <td>yes</td>\n",
       "    </tr>\n",
       "  </tbody>\n",
       "</table>\n",
       "<p>5 rows × 22 columns</p>\n",
       "</div>"
      ],
      "text/plain": [
       "   lower  upper answer  recparks  jobs  lowrisk  wildlife  future  aboriginal   \n",
       "0      0      2     nn         3     1        5         5       1           1  \\\n",
       "1      0      2     nn         5     5        3         5       5           1   \n",
       "2      0      2     nn         4     4        5         3       5           1   \n",
       "3      0      2     nn         1     2        4         5       3           4   \n",
       "4      0      2     nn         2     4        5         3       1           3   \n",
       "\n",
       "   finben  ...  gov  envcon  vparks tvenv conservation     sex age schooling   \n",
       "0       1  ...    1     yes     yes     1           no    male  27         3  \\\n",
       "1       5  ...    2      no     yes     3           no  female  32         4   \n",
       "2       5  ...    2      no     yes     2           no    male  32         4   \n",
       "3       3  ...    1     yes      no     1          yes  female  70         6   \n",
       "4       4  ...    1      no     yes     3           no    male  32         5   \n",
       "\n",
       "   income  major  \n",
       "0      25     no  \n",
       "1       9     no  \n",
       "2      25    yes  \n",
       "3      25     no  \n",
       "4      35    yes  \n",
       "\n",
       "[5 rows x 22 columns]"
      ]
     },
     "execution_count": 4,
     "metadata": {},
     "output_type": "execute_result"
    }
   ],
   "source": [
    "DATA.head()"
   ]
  },
  {
   "cell_type": "code",
   "execution_count": 33,
   "id": "dd435f1f-fc06-4c35-8f89-f340e1b68f41",
   "metadata": {
    "tags": []
   },
   "outputs": [
    {
     "data": {
      "text/plain": [
       "1827"
      ]
     },
     "execution_count": 33,
     "metadata": {},
     "output_type": "execute_result"
    }
   ],
   "source": [
    "len(DATA)"
   ]
  },
  {
   "cell_type": "code",
   "execution_count": 6,
   "id": "d731ae95-dab2-4d12-b3a6-425bc288aa14",
   "metadata": {
    "tags": []
   },
   "outputs": [
    {
     "name": "stdout",
     "output_type": "stream",
     "text": [
      "<class 'pandas.core.frame.DataFrame'>\n",
      "RangeIndex: 1827 entries, 0 to 1826\n",
      "Data columns (total 22 columns):\n",
      " #   Column        Non-Null Count  Dtype \n",
      "---  ------        --------------  ----- \n",
      " 0   lower         1827 non-null   int64 \n",
      " 1   upper         1827 non-null   int64 \n",
      " 2   answer        1827 non-null   object\n",
      " 3   recparks      1827 non-null   int64 \n",
      " 4   jobs          1827 non-null   int64 \n",
      " 5   lowrisk       1827 non-null   int64 \n",
      " 6   wildlife      1827 non-null   int64 \n",
      " 7   future        1827 non-null   int64 \n",
      " 8   aboriginal    1827 non-null   int64 \n",
      " 9   finben        1827 non-null   int64 \n",
      " 10  mineparks     1827 non-null   int64 \n",
      " 11  moreparks     1827 non-null   int64 \n",
      " 12  gov           1827 non-null   int64 \n",
      " 13  envcon        1827 non-null   object\n",
      " 14  vparks        1827 non-null   object\n",
      " 15  tvenv         1827 non-null   int64 \n",
      " 16  conservation  1827 non-null   object\n",
      " 17  sex           1827 non-null   object\n",
      " 18  age           1827 non-null   int64 \n",
      " 19  schooling     1827 non-null   int64 \n",
      " 20  income        1827 non-null   int64 \n",
      " 21  major         1827 non-null   object\n",
      "dtypes: int64(16), object(6)\n",
      "memory usage: 314.1+ KB\n"
     ]
    }
   ],
   "source": [
    "DATA.info()"
   ]
  },
  {
   "cell_type": "code",
   "execution_count": 8,
   "id": "6758c129-da9a-4005-b8d3-d4e766de04e0",
   "metadata": {
    "tags": []
   },
   "outputs": [
    {
     "data": {
      "text/plain": [
       "Index(['lower', 'upper', 'answer', 'recparks', 'jobs', 'lowrisk', 'wildlife',\n",
       "       'future', 'aboriginal', 'finben', 'mineparks', 'moreparks', 'gov',\n",
       "       'envcon', 'vparks', 'tvenv', 'conservation', 'sex', 'age', 'schooling',\n",
       "       'income', 'major'],\n",
       "      dtype='object')"
      ]
     },
     "execution_count": 8,
     "metadata": {},
     "output_type": "execute_result"
    }
   ],
   "source": [
    "DATA.columns"
   ]
  },
  {
   "cell_type": "code",
   "execution_count": 9,
   "id": "515fba67-27f5-45e9-8041-0c22a912f656",
   "metadata": {
    "tags": []
   },
   "outputs": [
    {
     "data": {
      "text/html": [
       "<div>\n",
       "<style scoped>\n",
       "    .dataframe tbody tr th:only-of-type {\n",
       "        vertical-align: middle;\n",
       "    }\n",
       "\n",
       "    .dataframe tbody tr th {\n",
       "        vertical-align: top;\n",
       "    }\n",
       "\n",
       "    .dataframe thead th {\n",
       "        text-align: right;\n",
       "    }\n",
       "</style>\n",
       "<table border=\"1\" class=\"dataframe\">\n",
       "  <thead>\n",
       "    <tr style=\"text-align: right;\">\n",
       "      <th></th>\n",
       "      <th>lower</th>\n",
       "      <th>upper</th>\n",
       "      <th>recparks</th>\n",
       "      <th>jobs</th>\n",
       "      <th>lowrisk</th>\n",
       "      <th>wildlife</th>\n",
       "      <th>future</th>\n",
       "      <th>aboriginal</th>\n",
       "      <th>finben</th>\n",
       "      <th>mineparks</th>\n",
       "      <th>moreparks</th>\n",
       "      <th>gov</th>\n",
       "      <th>tvenv</th>\n",
       "      <th>age</th>\n",
       "      <th>schooling</th>\n",
       "      <th>income</th>\n",
       "    </tr>\n",
       "  </thead>\n",
       "  <tbody>\n",
       "    <tr>\n",
       "      <th>count</th>\n",
       "      <td>1827.000000</td>\n",
       "      <td>1827.000000</td>\n",
       "      <td>1827.000000</td>\n",
       "      <td>1827.000000</td>\n",
       "      <td>1827.000000</td>\n",
       "      <td>1827.000000</td>\n",
       "      <td>1827.000000</td>\n",
       "      <td>1827.000000</td>\n",
       "      <td>1827.000000</td>\n",
       "      <td>1827.000000</td>\n",
       "      <td>1827.000000</td>\n",
       "      <td>1827.000000</td>\n",
       "      <td>1827.000000</td>\n",
       "      <td>1827.000000</td>\n",
       "      <td>1827.000000</td>\n",
       "      <td>1827.000000</td>\n",
       "    </tr>\n",
       "    <tr>\n",
       "      <th>mean</th>\n",
       "      <td>48.594964</td>\n",
       "      <td>536.714286</td>\n",
       "      <td>3.688560</td>\n",
       "      <td>2.592228</td>\n",
       "      <td>2.790367</td>\n",
       "      <td>4.739464</td>\n",
       "      <td>4.466886</td>\n",
       "      <td>3.569787</td>\n",
       "      <td>2.915709</td>\n",
       "      <td>3.643678</td>\n",
       "      <td>3.864806</td>\n",
       "      <td>1.083196</td>\n",
       "      <td>1.785441</td>\n",
       "      <td>42.968254</td>\n",
       "      <td>3.683634</td>\n",
       "      <td>21.656814</td>\n",
       "    </tr>\n",
       "    <tr>\n",
       "      <th>std</th>\n",
       "      <td>69.087719</td>\n",
       "      <td>478.512134</td>\n",
       "      <td>1.210078</td>\n",
       "      <td>1.294780</td>\n",
       "      <td>1.403467</td>\n",
       "      <td>0.651893</td>\n",
       "      <td>0.863253</td>\n",
       "      <td>1.265831</td>\n",
       "      <td>1.345761</td>\n",
       "      <td>1.351855</td>\n",
       "      <td>1.227114</td>\n",
       "      <td>0.304542</td>\n",
       "      <td>1.319226</td>\n",
       "      <td>17.113278</td>\n",
       "      <td>1.754222</td>\n",
       "      <td>16.442036</td>\n",
       "    </tr>\n",
       "    <tr>\n",
       "      <th>min</th>\n",
       "      <td>0.000000</td>\n",
       "      <td>2.000000</td>\n",
       "      <td>1.000000</td>\n",
       "      <td>1.000000</td>\n",
       "      <td>1.000000</td>\n",
       "      <td>1.000000</td>\n",
       "      <td>1.000000</td>\n",
       "      <td>1.000000</td>\n",
       "      <td>1.000000</td>\n",
       "      <td>1.000000</td>\n",
       "      <td>1.000000</td>\n",
       "      <td>1.000000</td>\n",
       "      <td>1.000000</td>\n",
       "      <td>21.000000</td>\n",
       "      <td>0.000000</td>\n",
       "      <td>3.000000</td>\n",
       "    </tr>\n",
       "    <tr>\n",
       "      <th>25%</th>\n",
       "      <td>0.000000</td>\n",
       "      <td>20.000000</td>\n",
       "      <td>3.000000</td>\n",
       "      <td>1.000000</td>\n",
       "      <td>1.000000</td>\n",
       "      <td>5.000000</td>\n",
       "      <td>4.000000</td>\n",
       "      <td>3.000000</td>\n",
       "      <td>2.000000</td>\n",
       "      <td>3.000000</td>\n",
       "      <td>3.000000</td>\n",
       "      <td>1.000000</td>\n",
       "      <td>1.000000</td>\n",
       "      <td>32.000000</td>\n",
       "      <td>3.000000</td>\n",
       "      <td>9.000000</td>\n",
       "    </tr>\n",
       "    <tr>\n",
       "      <th>50%</th>\n",
       "      <td>20.000000</td>\n",
       "      <td>999.000000</td>\n",
       "      <td>4.000000</td>\n",
       "      <td>2.000000</td>\n",
       "      <td>3.000000</td>\n",
       "      <td>5.000000</td>\n",
       "      <td>5.000000</td>\n",
       "      <td>4.000000</td>\n",
       "      <td>3.000000</td>\n",
       "      <td>4.000000</td>\n",
       "      <td>4.000000</td>\n",
       "      <td>1.000000</td>\n",
       "      <td>1.000000</td>\n",
       "      <td>37.000000</td>\n",
       "      <td>4.000000</td>\n",
       "      <td>16.000000</td>\n",
       "    </tr>\n",
       "    <tr>\n",
       "      <th>75%</th>\n",
       "      <td>50.000000</td>\n",
       "      <td>999.000000</td>\n",
       "      <td>5.000000</td>\n",
       "      <td>3.000000</td>\n",
       "      <td>4.000000</td>\n",
       "      <td>5.000000</td>\n",
       "      <td>5.000000</td>\n",
       "      <td>5.000000</td>\n",
       "      <td>4.000000</td>\n",
       "      <td>5.000000</td>\n",
       "      <td>5.000000</td>\n",
       "      <td>1.000000</td>\n",
       "      <td>2.000000</td>\n",
       "      <td>52.000000</td>\n",
       "      <td>5.000000</td>\n",
       "      <td>26.000000</td>\n",
       "    </tr>\n",
       "    <tr>\n",
       "      <th>max</th>\n",
       "      <td>250.000000</td>\n",
       "      <td>999.000000</td>\n",
       "      <td>5.000000</td>\n",
       "      <td>5.000000</td>\n",
       "      <td>5.000000</td>\n",
       "      <td>5.000000</td>\n",
       "      <td>9.000000</td>\n",
       "      <td>5.000000</td>\n",
       "      <td>5.000000</td>\n",
       "      <td>5.000000</td>\n",
       "      <td>5.000000</td>\n",
       "      <td>4.000000</td>\n",
       "      <td>9.000000</td>\n",
       "      <td>70.000000</td>\n",
       "      <td>8.000000</td>\n",
       "      <td>100.000000</td>\n",
       "    </tr>\n",
       "  </tbody>\n",
       "</table>\n",
       "</div>"
      ],
      "text/plain": [
       "             lower        upper     recparks         jobs      lowrisk   \n",
       "count  1827.000000  1827.000000  1827.000000  1827.000000  1827.000000  \\\n",
       "mean     48.594964   536.714286     3.688560     2.592228     2.790367   \n",
       "std      69.087719   478.512134     1.210078     1.294780     1.403467   \n",
       "min       0.000000     2.000000     1.000000     1.000000     1.000000   \n",
       "25%       0.000000    20.000000     3.000000     1.000000     1.000000   \n",
       "50%      20.000000   999.000000     4.000000     2.000000     3.000000   \n",
       "75%      50.000000   999.000000     5.000000     3.000000     4.000000   \n",
       "max     250.000000   999.000000     5.000000     5.000000     5.000000   \n",
       "\n",
       "          wildlife       future   aboriginal       finben    mineparks   \n",
       "count  1827.000000  1827.000000  1827.000000  1827.000000  1827.000000  \\\n",
       "mean      4.739464     4.466886     3.569787     2.915709     3.643678   \n",
       "std       0.651893     0.863253     1.265831     1.345761     1.351855   \n",
       "min       1.000000     1.000000     1.000000     1.000000     1.000000   \n",
       "25%       5.000000     4.000000     3.000000     2.000000     3.000000   \n",
       "50%       5.000000     5.000000     4.000000     3.000000     4.000000   \n",
       "75%       5.000000     5.000000     5.000000     4.000000     5.000000   \n",
       "max       5.000000     9.000000     5.000000     5.000000     5.000000   \n",
       "\n",
       "         moreparks          gov        tvenv          age    schooling   \n",
       "count  1827.000000  1827.000000  1827.000000  1827.000000  1827.000000  \\\n",
       "mean      3.864806     1.083196     1.785441    42.968254     3.683634   \n",
       "std       1.227114     0.304542     1.319226    17.113278     1.754222   \n",
       "min       1.000000     1.000000     1.000000    21.000000     0.000000   \n",
       "25%       3.000000     1.000000     1.000000    32.000000     3.000000   \n",
       "50%       4.000000     1.000000     1.000000    37.000000     4.000000   \n",
       "75%       5.000000     1.000000     2.000000    52.000000     5.000000   \n",
       "max       5.000000     4.000000     9.000000    70.000000     8.000000   \n",
       "\n",
       "            income  \n",
       "count  1827.000000  \n",
       "mean     21.656814  \n",
       "std      16.442036  \n",
       "min       3.000000  \n",
       "25%       9.000000  \n",
       "50%      16.000000  \n",
       "75%      26.000000  \n",
       "max     100.000000  "
      ]
     },
     "execution_count": 9,
     "metadata": {},
     "output_type": "execute_result"
    }
   ],
   "source": [
    "DATA.describe ()"
   ]
  },
  {
   "cell_type": "code",
   "execution_count": 34,
   "id": "29a7b208-5d7d-4a2f-afb4-f5e52e1485d6",
   "metadata": {
    "tags": []
   },
   "outputs": [
    {
     "data": {
      "text/plain": [
       "<Axes: xlabel='vparks', ylabel='count'>"
      ]
     },
     "execution_count": 34,
     "metadata": {},
     "output_type": "execute_result"
    },
    {
     "data": {
      "image/png": "[encoded data removed]",
      "text/plain": [
       "<Figure size 640x480 with 1 Axes>"
      ]
     },
     "metadata": {},
     "output_type": "display_data"
    }
   ],
   "source": [
    "sns.countplot(x='vparks' , data=DATA , palette='hls')"
   ]
  },
  {
   "cell_type": "code",
   "execution_count": 17,
   "id": "c14bb341-fc86-4b3a-9e5a-dae9591b47c6",
   "metadata": {
    "tags": []
   },
   "outputs": [
    {
     "data": {
      "text/plain": [
       "<Axes: xlabel='conservation', ylabel='count'>"
      ]
     },
     "execution_count": 17,
     "metadata": {},
     "output_type": "execute_result"
    },
    {
     "data": {
      "image/png": "[encoded data removed]",
      "text/plain": [
       "<Figure size 640x480 with 1 Axes>"
      ]
     },
     "metadata": {},
     "output_type": "display_data"
    }
   ],
   "source": [
    "sns.countplot(x='conservation' , data=DATA , palette='hls')"
   ]
  },
  {
   "cell_type": "code",
   "execution_count": 35,
   "id": "5662f0cc-20ad-4e34-bc0c-331317d5fd37",
   "metadata": {
    "tags": []
   },
   "outputs": [
    {
     "data": {
      "text/plain": [
       "<bound method NDFrame.describe of 0       yes\n",
       "1       yes\n",
       "2       yes\n",
       "3        no\n",
       "4       yes\n",
       "       ... \n",
       "1822    yes\n",
       "1823    yes\n",
       "1824    yes\n",
       "1825    yes\n",
       "1826    yes\n",
       "Name: vparks, Length: 1827, dtype: object>"
      ]
     },
     "execution_count": 35,
     "metadata": {},
     "output_type": "execute_result"
    }
   ],
   "source": [
    "DATA['vparks'].describe "
   ]
  },
  {
   "cell_type": "code",
   "execution_count": 23,
   "id": "12796df5-7618-45c6-a762-8a2824399b72",
   "metadata": {
    "tags": []
   },
   "outputs": [
    {
     "data": {
      "text/plain": [
       "<bound method NDFrame.describe of 0        no\n",
       "1        no\n",
       "2        no\n",
       "3       yes\n",
       "4        no\n",
       "       ... \n",
       "1822     no\n",
       "1823     no\n",
       "1824     no\n",
       "1825     no\n",
       "1826     no\n",
       "Name: conservation, Length: 1827, dtype: object>"
      ]
     },
     "execution_count": 23,
     "metadata": {},
     "output_type": "execute_result"
    }
   ],
   "source": [
    "DATA['conservation'].describe "
   ]
  },
  {
   "cell_type": "code",
   "execution_count": 36,
   "id": "71eca75d-5206-46f1-ae5c-e3ea13c1ba60",
   "metadata": {
    "tags": []
   },
   "outputs": [
    {
     "data": {
      "text/plain": [
       "vparks\n",
       "yes    1321\n",
       "no      506\n",
       "Name: count, dtype: int64"
      ]
     },
     "execution_count": 36,
     "metadata": {},
     "output_type": "execute_result"
    }
   ],
   "source": [
    "DATA['vparks'].value_counts()"
   ]
  },
  {
   "cell_type": "code",
   "execution_count": 25,
   "id": "0805d46a-56db-4f2f-b656-9d3e29910565",
   "metadata": {
    "tags": []
   },
   "outputs": [
    {
     "data": {
      "text/plain": [
       "conservation\n",
       "no     1708\n",
       "yes     119\n",
       "Name: count, dtype: int64"
      ]
     },
     "execution_count": 25,
     "metadata": {},
     "output_type": "execute_result"
    }
   ],
   "source": [
    "DATA['conservation'].value_counts()"
   ]
  },
  {
   "cell_type": "markdown",
   "id": "9931a69d-9fe9-4212-a485-a3aa8d590410",
   "metadata": {},
   "source": [
    "## 2)  Hipótesis 1"
   ]
  },
  {
   "cell_type": "markdown",
   "id": "0188effb-6b97-4775-b21f-6a4b0b6e7eb1",
   "metadata": {},
   "source": [
    "Hipótesis: Que la persona pertenezca a una organización conservadora influye en su asistencia a parques naturales."
   ]
  },
  {
   "cell_type": "code",
   "execution_count": 54,
   "id": "99e7df5f-c91e-4d05-826c-23e51a740da5",
   "metadata": {
    "tags": []
   },
   "outputs": [
    {
     "data": {
      "text/html": [
       "<div>\n",
       "<style scoped>\n",
       "    .dataframe tbody tr th:only-of-type {\n",
       "        vertical-align: middle;\n",
       "    }\n",
       "\n",
       "    .dataframe tbody tr th {\n",
       "        vertical-align: top;\n",
       "    }\n",
       "\n",
       "    .dataframe thead th {\n",
       "        text-align: right;\n",
       "    }\n",
       "</style>\n",
       "<table border=\"1\" class=\"dataframe\">\n",
       "  <thead>\n",
       "    <tr style=\"text-align: right;\">\n",
       "      <th></th>\n",
       "      <th>vparks_yes</th>\n",
       "    </tr>\n",
       "  </thead>\n",
       "  <tbody>\n",
       "    <tr>\n",
       "      <th>0</th>\n",
       "      <td>1</td>\n",
       "    </tr>\n",
       "    <tr>\n",
       "      <th>1</th>\n",
       "      <td>1</td>\n",
       "    </tr>\n",
       "    <tr>\n",
       "      <th>2</th>\n",
       "      <td>1</td>\n",
       "    </tr>\n",
       "    <tr>\n",
       "      <th>3</th>\n",
       "      <td>0</td>\n",
       "    </tr>\n",
       "    <tr>\n",
       "      <th>4</th>\n",
       "      <td>1</td>\n",
       "    </tr>\n",
       "  </tbody>\n",
       "</table>\n",
       "</div>"
      ],
      "text/plain": [
       "   vparks_yes\n",
       "0           1\n",
       "1           1\n",
       "2           1\n",
       "3           0\n",
       "4           1"
      ]
     },
     "execution_count": 54,
     "metadata": {},
     "output_type": "execute_result"
    }
   ],
   "source": [
    "VPARKS = pd.get_dummies(DATA['vparks'], prefix='vparks', drop_first=True).astype(int)\n",
    "VPARKS.head()"
   ]
  },
  {
   "cell_type": "code",
   "execution_count": 53,
   "id": "54744867-4c5e-47e2-9a83-97d5e89be1df",
   "metadata": {
    "tags": []
   },
   "outputs": [
    {
     "data": {
      "text/html": [
       "<div>\n",
       "<style scoped>\n",
       "    .dataframe tbody tr th:only-of-type {\n",
       "        vertical-align: middle;\n",
       "    }\n",
       "\n",
       "    .dataframe tbody tr th {\n",
       "        vertical-align: top;\n",
       "    }\n",
       "\n",
       "    .dataframe thead th {\n",
       "        text-align: right;\n",
       "    }\n",
       "</style>\n",
       "<table border=\"1\" class=\"dataframe\">\n",
       "  <thead>\n",
       "    <tr style=\"text-align: right;\">\n",
       "      <th></th>\n",
       "      <th>conservation_yes</th>\n",
       "    </tr>\n",
       "  </thead>\n",
       "  <tbody>\n",
       "    <tr>\n",
       "      <th>0</th>\n",
       "      <td>0</td>\n",
       "    </tr>\n",
       "    <tr>\n",
       "      <th>1</th>\n",
       "      <td>0</td>\n",
       "    </tr>\n",
       "    <tr>\n",
       "      <th>2</th>\n",
       "      <td>0</td>\n",
       "    </tr>\n",
       "    <tr>\n",
       "      <th>3</th>\n",
       "      <td>1</td>\n",
       "    </tr>\n",
       "    <tr>\n",
       "      <th>4</th>\n",
       "      <td>0</td>\n",
       "    </tr>\n",
       "  </tbody>\n",
       "</table>\n",
       "</div>"
      ],
      "text/plain": [
       "   conservation_yes\n",
       "0                 0\n",
       "1                 0\n",
       "2                 0\n",
       "3                 1\n",
       "4                 0"
      ]
     },
     "execution_count": 53,
     "metadata": {},
     "output_type": "execute_result"
    }
   ],
   "source": [
    "CONSERVATION = pd.get_dummies(DATA['conservation'], prefix='conservation', drop_first=True).astype(int)\n",
    "CONSERVATION.head()"
   ]
  },
  {
   "cell_type": "code",
   "execution_count": 59,
   "id": "2b1e67a0-5647-4528-8a74-4dc5f48768b7",
   "metadata": {
    "tags": []
   },
   "outputs": [],
   "source": [
    "DATA = pd.concat([DATA, VPARKS], axis=1)\n",
    "DATA = pd.concat([DATA, CONSERVATION], axis=1)"
   ]
  },
  {
   "cell_type": "code",
   "execution_count": 60,
   "id": "a7029022-44d5-4a1c-9573-862f1736b5e9",
   "metadata": {
    "tags": []
   },
   "outputs": [
    {
     "data": {
      "text/html": [
       "<div>\n",
       "<style scoped>\n",
       "    .dataframe tbody tr th:only-of-type {\n",
       "        vertical-align: middle;\n",
       "    }\n",
       "\n",
       "    .dataframe tbody tr th {\n",
       "        vertical-align: top;\n",
       "    }\n",
       "\n",
       "    .dataframe thead th {\n",
       "        text-align: right;\n",
       "    }\n",
       "</style>\n",
       "<table border=\"1\" class=\"dataframe\">\n",
       "  <thead>\n",
       "    <tr style=\"text-align: right;\">\n",
       "      <th></th>\n",
       "      <th>lower</th>\n",
       "      <th>upper</th>\n",
       "      <th>answer</th>\n",
       "      <th>recparks</th>\n",
       "      <th>jobs</th>\n",
       "      <th>lowrisk</th>\n",
       "      <th>wildlife</th>\n",
       "      <th>future</th>\n",
       "      <th>aboriginal</th>\n",
       "      <th>finben</th>\n",
       "      <th>...</th>\n",
       "      <th>vparks</th>\n",
       "      <th>tvenv</th>\n",
       "      <th>conservation</th>\n",
       "      <th>sex</th>\n",
       "      <th>age</th>\n",
       "      <th>schooling</th>\n",
       "      <th>income</th>\n",
       "      <th>major</th>\n",
       "      <th>vparks_yes</th>\n",
       "      <th>conservation_yes</th>\n",
       "    </tr>\n",
       "  </thead>\n",
       "  <tbody>\n",
       "    <tr>\n",
       "      <th>0</th>\n",
       "      <td>0</td>\n",
       "      <td>2</td>\n",
       "      <td>nn</td>\n",
       "      <td>3</td>\n",
       "      <td>1</td>\n",
       "      <td>5</td>\n",
       "      <td>5</td>\n",
       "      <td>1</td>\n",
       "      <td>1</td>\n",
       "      <td>1</td>\n",
       "      <td>...</td>\n",
       "      <td>yes</td>\n",
       "      <td>1</td>\n",
       "      <td>no</td>\n",
       "      <td>male</td>\n",
       "      <td>27</td>\n",
       "      <td>3</td>\n",
       "      <td>25</td>\n",
       "      <td>no</td>\n",
       "      <td>1</td>\n",
       "      <td>0</td>\n",
       "    </tr>\n",
       "    <tr>\n",
       "      <th>1</th>\n",
       "      <td>0</td>\n",
       "      <td>2</td>\n",
       "      <td>nn</td>\n",
       "      <td>5</td>\n",
       "      <td>5</td>\n",
       "      <td>3</td>\n",
       "      <td>5</td>\n",
       "      <td>5</td>\n",
       "      <td>1</td>\n",
       "      <td>5</td>\n",
       "      <td>...</td>\n",
       "      <td>yes</td>\n",
       "      <td>3</td>\n",
       "      <td>no</td>\n",
       "      <td>female</td>\n",
       "      <td>32</td>\n",
       "      <td>4</td>\n",
       "      <td>9</td>\n",
       "      <td>no</td>\n",
       "      <td>1</td>\n",
       "      <td>0</td>\n",
       "    </tr>\n",
       "    <tr>\n",
       "      <th>2</th>\n",
       "      <td>0</td>\n",
       "      <td>2</td>\n",
       "      <td>nn</td>\n",
       "      <td>4</td>\n",
       "      <td>4</td>\n",
       "      <td>5</td>\n",
       "      <td>3</td>\n",
       "      <td>5</td>\n",
       "      <td>1</td>\n",
       "      <td>5</td>\n",
       "      <td>...</td>\n",
       "      <td>yes</td>\n",
       "      <td>2</td>\n",
       "      <td>no</td>\n",
       "      <td>male</td>\n",
       "      <td>32</td>\n",
       "      <td>4</td>\n",
       "      <td>25</td>\n",
       "      <td>yes</td>\n",
       "      <td>1</td>\n",
       "      <td>0</td>\n",
       "    </tr>\n",
       "    <tr>\n",
       "      <th>3</th>\n",
       "      <td>0</td>\n",
       "      <td>2</td>\n",
       "      <td>nn</td>\n",
       "      <td>1</td>\n",
       "      <td>2</td>\n",
       "      <td>4</td>\n",
       "      <td>5</td>\n",
       "      <td>3</td>\n",
       "      <td>4</td>\n",
       "      <td>3</td>\n",
       "      <td>...</td>\n",
       "      <td>no</td>\n",
       "      <td>1</td>\n",
       "      <td>yes</td>\n",
       "      <td>female</td>\n",
       "      <td>70</td>\n",
       "      <td>6</td>\n",
       "      <td>25</td>\n",
       "      <td>no</td>\n",
       "      <td>0</td>\n",
       "      <td>1</td>\n",
       "    </tr>\n",
       "    <tr>\n",
       "      <th>4</th>\n",
       "      <td>0</td>\n",
       "      <td>2</td>\n",
       "      <td>nn</td>\n",
       "      <td>2</td>\n",
       "      <td>4</td>\n",
       "      <td>5</td>\n",
       "      <td>3</td>\n",
       "      <td>1</td>\n",
       "      <td>3</td>\n",
       "      <td>4</td>\n",
       "      <td>...</td>\n",
       "      <td>yes</td>\n",
       "      <td>3</td>\n",
       "      <td>no</td>\n",
       "      <td>male</td>\n",
       "      <td>32</td>\n",
       "      <td>5</td>\n",
       "      <td>35</td>\n",
       "      <td>yes</td>\n",
       "      <td>1</td>\n",
       "      <td>0</td>\n",
       "    </tr>\n",
       "  </tbody>\n",
       "</table>\n",
       "<p>5 rows × 24 columns</p>\n",
       "</div>"
      ],
      "text/plain": [
       "   lower  upper answer  recparks  jobs  lowrisk  wildlife  future  aboriginal   \n",
       "0      0      2     nn         3     1        5         5       1           1  \\\n",
       "1      0      2     nn         5     5        3         5       5           1   \n",
       "2      0      2     nn         4     4        5         3       5           1   \n",
       "3      0      2     nn         1     2        4         5       3           4   \n",
       "4      0      2     nn         2     4        5         3       1           3   \n",
       "\n",
       "   finben  ...  vparks  tvenv  conservation     sex age  schooling income   \n",
       "0       1  ...     yes      1            no    male  27          3     25  \\\n",
       "1       5  ...     yes      3            no  female  32          4      9   \n",
       "2       5  ...     yes      2            no    male  32          4     25   \n",
       "3       3  ...      no      1           yes  female  70          6     25   \n",
       "4       4  ...     yes      3            no    male  32          5     35   \n",
       "\n",
       "  major  vparks_yes  conservation_yes  \n",
       "0    no           1                 0  \n",
       "1    no           1                 0  \n",
       "2   yes           1                 0  \n",
       "3    no           0                 1  \n",
       "4   yes           1                 0  \n",
       "\n",
       "[5 rows x 24 columns]"
      ]
     },
     "execution_count": 60,
     "metadata": {},
     "output_type": "execute_result"
    }
   ],
   "source": [
    "DATA.head()"
   ]
  },
  {
   "cell_type": "code",
   "execution_count": 62,
   "id": "1ed7fb65-9ed7-40b6-a245-748cc9eff02c",
   "metadata": {
    "tags": []
   },
   "outputs": [
    {
     "data": {
      "text/html": [
       "<table class=\"simpletable\">\n",
       "<caption>OLS Regression Results</caption>\n",
       "<tr>\n",
       "  <th>Dep. Variable:</th>    <td>conservation_yes</td> <th>  R-squared:         </th> <td>   0.011</td>\n",
       "</tr>\n",
       "<tr>\n",
       "  <th>Model:</th>                   <td>OLS</td>       <th>  Adj. R-squared:    </th> <td>   0.010</td>\n",
       "</tr>\n",
       "<tr>\n",
       "  <th>Method:</th>             <td>Least Squares</td>  <th>  F-statistic:       </th> <td>   19.91</td>\n",
       "</tr>\n",
       "<tr>\n",
       "  <th>Date:</th>             <td>Mon, 05 Jun 2023</td> <th>  Prob (F-statistic):</th> <td>8.62e-06</td>\n",
       "</tr>\n",
       "<tr>\n",
       "  <th>Time:</th>                 <td>20:13:58</td>     <th>  Log-Likelihood:    </th> <td> -25.914</td>\n",
       "</tr>\n",
       "<tr>\n",
       "  <th>No. Observations:</th>      <td>  1827</td>      <th>  AIC:               </th> <td>   55.83</td>\n",
       "</tr>\n",
       "<tr>\n",
       "  <th>Df Residuals:</th>          <td>  1825</td>      <th>  BIC:               </th> <td>   66.85</td>\n",
       "</tr>\n",
       "<tr>\n",
       "  <th>Df Model:</th>              <td>     1</td>      <th>                     </th>     <td> </td>   \n",
       "</tr>\n",
       "<tr>\n",
       "  <th>Covariance Type:</th>      <td>nonrobust</td>    <th>                     </th>     <td> </td>   \n",
       "</tr>\n",
       "</table>\n",
       "<table class=\"simpletable\">\n",
       "<tr>\n",
       "       <td></td>         <th>coef</th>     <th>std err</th>      <th>t</th>      <th>P>|t|</th>  <th>[0.025</th>    <th>0.975]</th>  \n",
       "</tr>\n",
       "<tr>\n",
       "  <th>Intercept</th>  <td>    0.0237</td> <td>    0.011</td> <td>    2.172</td> <td> 0.030</td> <td>    0.002</td> <td>    0.045</td>\n",
       "</tr>\n",
       "<tr>\n",
       "  <th>vparks_yes</th> <td>    0.0573</td> <td>    0.013</td> <td>    4.462</td> <td> 0.000</td> <td>    0.032</td> <td>    0.082</td>\n",
       "</tr>\n",
       "</table>\n",
       "<table class=\"simpletable\">\n",
       "<tr>\n",
       "  <th>Omnibus:</th>       <td>1286.892</td> <th>  Durbin-Watson:     </th> <td>   2.090</td> \n",
       "</tr>\n",
       "<tr>\n",
       "  <th>Prob(Omnibus):</th>  <td> 0.000</td>  <th>  Jarque-Bera (JB):  </th> <td>11521.858</td>\n",
       "</tr>\n",
       "<tr>\n",
       "  <th>Skew:</th>           <td> 3.464</td>  <th>  Prob(JB):          </th> <td>    0.00</td> \n",
       "</tr>\n",
       "<tr>\n",
       "  <th>Kurtosis:</th>       <td>13.166</td>  <th>  Cond. No.          </th> <td>    3.57</td> \n",
       "</tr>\n",
       "</table><br/><br/>Notes:<br/>[1] Standard Errors assume that the covariance matrix of the errors is correctly specified."
      ],
      "text/plain": [
       "<class 'statsmodels.iolib.summary.Summary'>\n",
       "\"\"\"\n",
       "                            OLS Regression Results                            \n",
       "==============================================================================\n",
       "Dep. Variable:       conservation_yes   R-squared:                       0.011\n",
       "Model:                            OLS   Adj. R-squared:                  0.010\n",
       "Method:                 Least Squares   F-statistic:                     19.91\n",
       "Date:                Mon, 05 Jun 2023   Prob (F-statistic):           8.62e-06\n",
       "Time:                        20:13:58   Log-Likelihood:                -25.914\n",
       "No. Observations:                1827   AIC:                             55.83\n",
       "Df Residuals:                    1825   BIC:                             66.85\n",
       "Df Model:                           1                                         \n",
       "Covariance Type:            nonrobust                                         \n",
       "==============================================================================\n",
       "                 coef    std err          t      P>|t|      [0.025      0.975]\n",
       "------------------------------------------------------------------------------\n",
       "Intercept      0.0237      0.011      2.172      0.030       0.002       0.045\n",
       "vparks_yes     0.0573      0.013      4.462      0.000       0.032       0.082\n",
       "==============================================================================\n",
       "Omnibus:                     1286.892   Durbin-Watson:                   2.090\n",
       "Prob(Omnibus):                  0.000   Jarque-Bera (JB):            11521.858\n",
       "Skew:                           3.464   Prob(JB):                         0.00\n",
       "Kurtosis:                      13.166   Cond. No.                         3.57\n",
       "==============================================================================\n",
       "\n",
       "Notes:\n",
       "[1] Standard Errors assume that the covariance matrix of the errors is correctly specified.\n",
       "\"\"\""
      ]
     },
     "execution_count": 62,
     "metadata": {},
     "output_type": "execute_result"
    }
   ],
   "source": [
    "est = smf.ols(formula='conservation_yes ~ vparks_yes', data=DATA).fit()\n",
    "est.summary()"
   ]
  },
  {
   "cell_type": "markdown",
   "id": "63138843-2fce-4d17-be85-78282d959bfd",
   "metadata": {},
   "source": [
    "### Respuesta: Que la persona pertenezca o no a una organización conservadora no muestra una relación robusta a su asistencia a parques naturales en los últimos 12 meses."
   ]
  },
  {
   "cell_type": "markdown",
   "id": "450d1e8a-b385-41a2-bccb-614594d57ccd",
   "metadata": {},
   "source": [
    "## 3) Hipótesis 2"
   ]
  },
  {
   "cell_type": "markdown",
   "id": "5702e3c5-8a6c-416a-b92b-6ee6b46fe74a",
   "metadata": {},
   "source": [
    "Hipótesis: Una persona es parte de una organización de conservación debido a su preocupación por la vida salvaje, los aborigenes, el riesgo y la cantidad de parques."
   ]
  },
  {
   "cell_type": "code",
   "execution_count": 64,
   "id": "95be1ada-c477-486f-a8e3-d290baedc109",
   "metadata": {
    "tags": []
   },
   "outputs": [
    {
     "name": "stdout",
     "output_type": "stream",
     "text": [
      "Optimization terminated successfully.\n",
      "         Current function value: 0.229847\n",
      "         Iterations 8\n"
     ]
    },
    {
     "data": {
      "text/html": [
       "<table class=\"simpletable\">\n",
       "<caption>Logit Regression Results</caption>\n",
       "<tr>\n",
       "  <th>Dep. Variable:</th>   <td>conservation_yes</td> <th>  No. Observations:  </th>  <td>  1827</td>  \n",
       "</tr>\n",
       "<tr>\n",
       "  <th>Model:</th>                 <td>Logit</td>      <th>  Df Residuals:      </th>  <td>  1822</td>  \n",
       "</tr>\n",
       "<tr>\n",
       "  <th>Method:</th>                 <td>MLE</td>       <th>  Df Model:          </th>  <td>     4</td>  \n",
       "</tr>\n",
       "<tr>\n",
       "  <th>Date:</th>            <td>Mon, 05 Jun 2023</td> <th>  Pseudo R-squ.:     </th>  <td>0.04575</td> \n",
       "</tr>\n",
       "<tr>\n",
       "  <th>Time:</th>                <td>20:37:16</td>     <th>  Log-Likelihood:    </th> <td> -419.93</td> \n",
       "</tr>\n",
       "<tr>\n",
       "  <th>converged:</th>             <td>True</td>       <th>  LL-Null:           </th> <td> -440.06</td> \n",
       "</tr>\n",
       "<tr>\n",
       "  <th>Covariance Type:</th>     <td>nonrobust</td>    <th>  LLR p-value:       </th> <td>3.813e-08</td>\n",
       "</tr>\n",
       "</table>\n",
       "<table class=\"simpletable\">\n",
       "<tr>\n",
       "       <td></td>         <th>coef</th>     <th>std err</th>      <th>z</th>      <th>P>|z|</th>  <th>[0.025</th>    <th>0.975]</th>  \n",
       "</tr>\n",
       "<tr>\n",
       "  <th>Intercept</th>  <td>   -4.8053</td> <td>    1.143</td> <td>   -4.204</td> <td> 0.000</td> <td>   -7.045</td> <td>   -2.565</td>\n",
       "</tr>\n",
       "<tr>\n",
       "  <th>wildlife</th>   <td>    0.1530</td> <td>    0.213</td> <td>    0.720</td> <td> 0.471</td> <td>   -0.264</td> <td>    0.570</td>\n",
       "</tr>\n",
       "<tr>\n",
       "  <th>aboriginal</th> <td>    0.1306</td> <td>    0.086</td> <td>    1.517</td> <td> 0.129</td> <td>   -0.038</td> <td>    0.299</td>\n",
       "</tr>\n",
       "<tr>\n",
       "  <th>lowrisk</th>    <td>   -0.2025</td> <td>    0.080</td> <td>   -2.521</td> <td> 0.012</td> <td>   -0.360</td> <td>   -0.045</td>\n",
       "</tr>\n",
       "<tr>\n",
       "  <th>moreparks</th>  <td>    0.3436</td> <td>    0.111</td> <td>    3.095</td> <td> 0.002</td> <td>    0.126</td> <td>    0.561</td>\n",
       "</tr>\n",
       "</table>"
      ],
      "text/plain": [
       "<class 'statsmodels.iolib.summary.Summary'>\n",
       "\"\"\"\n",
       "                           Logit Regression Results                           \n",
       "==============================================================================\n",
       "Dep. Variable:       conservation_yes   No. Observations:                 1827\n",
       "Model:                          Logit   Df Residuals:                     1822\n",
       "Method:                           MLE   Df Model:                            4\n",
       "Date:                Mon, 05 Jun 2023   Pseudo R-squ.:                 0.04575\n",
       "Time:                        20:37:16   Log-Likelihood:                -419.93\n",
       "converged:                       True   LL-Null:                       -440.06\n",
       "Covariance Type:            nonrobust   LLR p-value:                 3.813e-08\n",
       "==============================================================================\n",
       "                 coef    std err          z      P>|z|      [0.025      0.975]\n",
       "------------------------------------------------------------------------------\n",
       "Intercept     -4.8053      1.143     -4.204      0.000      -7.045      -2.565\n",
       "wildlife       0.1530      0.213      0.720      0.471      -0.264       0.570\n",
       "aboriginal     0.1306      0.086      1.517      0.129      -0.038       0.299\n",
       "lowrisk       -0.2025      0.080     -2.521      0.012      -0.360      -0.045\n",
       "moreparks      0.3436      0.111      3.095      0.002       0.126       0.561\n",
       "==============================================================================\n",
       "\"\"\""
      ]
     },
     "execution_count": 64,
     "metadata": {},
     "output_type": "execute_result"
    }
   ],
   "source": [
    "formula_reg_log = \"conservation_yes ~ wildlife + aboriginal + lowrisk + moreparks\"\n",
    "modelo_log = smf.logit(formula_reg_log, DATA).fit()\n",
    "modelo_log.summary()"
   ]
  },
  {
   "cell_type": "code",
   "execution_count": null,
   "id": "3174c315-3a31-493f-8270-a189d1afa66f",
   "metadata": {},
   "outputs": [],
   "source": []
  },
  {
   "cell_type": "code",
   "execution_count": null,
   "id": "bfbb0321-a1a3-47d7-9b1b-6b38cc0d4da0",
   "metadata": {},
   "outputs": [],
   "source": []
  },
  {
   "cell_type": "code",
   "execution_count": null,
   "id": "fea8c08f-bea7-4ba0-91a6-ed4c3af7338d",
   "metadata": {},
   "outputs": [],
   "source": []
  }
 ],
 "metadata": {
  "kernelspec": {
   "display_name": "Python 3 (ipykernel)",
   "language": "python",
   "name": "python3"
  },
  "language_info": {
   "codemirror_mode": {
    "name": "ipython",
    "version": 3
   },
   "file_extension": ".py",
   "mimetype": "text/x-python",
   "name": "python",
   "nbconvert_exporter": "python",
   "pygments_lexer": "ipython3",
   "version": "3.11.3"
  }
 },
 "nbformat": 4,
 "nbformat_minor": 5
}
