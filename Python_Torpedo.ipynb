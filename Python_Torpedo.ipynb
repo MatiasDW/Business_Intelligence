{
 "cells": [
  {
   "cell_type": "markdown",
   "id": "01551aaa-842e-49d5-94aa-57b81cdb19c7",
   "metadata": {
    "jp-MarkdownHeadingCollapsed": true,
    "tags": []
   },
   "source": [
    "# Imports"
   ]
  },
  {
   "cell_type": "code",
   "execution_count": null,
   "id": "cb08e9a1-ac83-4eee-bdeb-bf2d6f0ac7c5",
   "metadata": {},
   "outputs": [],
   "source": [
    "import pandas as pd\n",
    "import numpy as np\n",
    "import seaborn as sns\n",
    "import matplotlib.pyplot as plt"
   ]
  },
  {
   "cell_type": "markdown",
   "id": "d9ecfd61-ee26-42d7-8399-0f311c95a290",
   "metadata": {
    "jp-MarkdownHeadingCollapsed": true,
    "tags": []
   },
   "source": [
    "# Carga de Archivos"
   ]
  },
  {
   "cell_type": "code",
   "execution_count": null,
   "id": "cb2f98ce-ffb6-4e1a-adb1-9ee1fc51cbfa",
   "metadata": {},
   "outputs": [],
   "source": [
    "data = pd.read_csv('Ruta del archivo')"
   ]
  },
  {
   "cell_type": "markdown",
   "id": "10319bcb-59a4-4775-97fa-f9124d157876",
   "metadata": {
    "tags": []
   },
   "source": [
    "# Comandos básicos"
   ]
  },
  {
   "cell_type": "markdown",
   "id": "3c14b3a7-91c5-4489-b871-935d78a1f9f3",
   "metadata": {},
   "source": [
    "### Análisis básico"
   ]
  },
  {
   "cell_type": "code",
   "execution_count": null,
   "id": "d7f5d446-2921-4513-a333-b237563c1d1a",
   "metadata": {},
   "outputs": [],
   "source": [
    "len(data)"
   ]
  },
  {
   "cell_type": "code",
   "execution_count": null,
   "id": "4786e3df-bdd7-4fdd-87a4-70515eaf9557",
   "metadata": {},
   "outputs": [],
   "source": [
    "100 * data.isnull(sum) / len(data)"
   ]
  },
  {
   "cell_type": "code",
   "execution_count": null,
   "id": "8fd05640-212a-4fcc-9b3c-f3fcdbd456dc",
   "metadata": {},
   "outputs": [],
   "source": [
    "data.columns"
   ]
  },
  {
   "cell_type": "code",
   "execution_count": null,
   "id": "d7dc025c-4f4b-4655-baa0-712b6a51f6aa",
   "metadata": {},
   "outputs": [],
   "source": [
    "data.dtypes"
   ]
  },
  {
   "cell_type": "code",
   "execution_count": null,
   "id": "fe4b767d-339d-4e37-aa12-8bfb1c83963c",
   "metadata": {},
   "outputs": [],
   "source": [
    "data.head()"
   ]
  },
  {
   "cell_type": "markdown",
   "id": "7a4ae8c0-443c-46b1-a8d4-7c278fe51a7d",
   "metadata": {
    "tags": []
   },
   "source": [
    "### Univariantes"
   ]
  },
  {
   "cell_type": "code",
   "execution_count": null,
   "id": "e2e05f45-d8ae-404c-8be5-7a8774538801",
   "metadata": {},
   "outputs": [],
   "source": [
    "data.describe()"
   ]
  },
  {
   "cell_type": "code",
   "execution_count": null,
   "id": "a901612a-9f98-4030-b712-d66e213029a2",
   "metadata": {},
   "outputs": [],
   "source": [
    "data['var1'].describe"
   ]
  },
  {
   "cell_type": "code",
   "execution_count": null,
   "id": "95f413e5-2b5d-43b2-a1b3-8cd93930929b",
   "metadata": {},
   "outputs": [],
   "source": [
    "data['var1'].value_counts()"
   ]
  },
  {
   "cell_type": "markdown",
   "id": "5ec062b4-9412-4ff8-8870-f915af8a9830",
   "metadata": {},
   "source": [
    "### Gráficos univariantes"
   ]
  },
  {
   "cell_type": "code",
   "execution_count": null,
   "id": "9def5bfb-7def-4b20-a629-2d815c9ace9a",
   "metadata": {},
   "outputs": [],
   "source": [
    "sns.displot(data['var1'])"
   ]
  },
  {
   "cell_type": "code",
   "execution_count": null,
   "id": "3b7a8ae2-3fc8-4ebf-91ae-09a32611853c",
   "metadata": {},
   "outputs": [],
   "source": [
    "sns.boxplot(data['var1'])"
   ]
  },
  {
   "cell_type": "code",
   "execution_count": null,
   "id": "7bf0bae0-56d0-44f8-be46-93134f49b260",
   "metadata": {},
   "outputs": [],
   "source": [
    "sns.countplot(data['var1'])"
   ]
  },
  {
   "cell_type": "code",
   "execution_count": null,
   "id": "7fbcbf84-e2cb-4189-84f1-0327eebcf276",
   "metadata": {},
   "outputs": [],
   "source": [
    "data['var1'].hist()"
   ]
  },
  {
   "cell_type": "markdown",
   "id": "9708d204-d2ff-49cc-9dcf-c827b9f056cb",
   "metadata": {},
   "source": [
    "### Comparación de medias"
   ]
  },
  {
   "cell_type": "code",
   "execution_count": null,
   "id": "9d01e758-b12c-421b-92b0-645fad6401d9",
   "metadata": {},
   "outputs": [],
   "source": [
    "data.groupby('var1').agg({'var2':'mean'}) "
   ]
  },
  {
   "cell_type": "markdown",
   "id": "196e4c10-37f9-453e-be2f-65a254a8a241",
   "metadata": {},
   "source": [
    "### Tabla de contingencia"
   ]
  },
  {
   "cell_type": "code",
   "execution_count": null,
   "id": "89866c47-f69b-42b8-b131-c83da3b6de7c",
   "metadata": {},
   "outputs": [],
   "source": [
    "tabla_cont = data.groupby('var1').agg({'var2': 'value_counts'}).unstack().fillna(0)\n",
    "tabla_cont\n",
    "\n",
    "tabla_cont.apply(lambda x: 100*x/x.sum(), axis=1)"
   ]
  },
  {
   "cell_type": "markdown",
   "id": "d18c60fd-2da6-4dbd-8ee1-d8d61d1cbd5c",
   "metadata": {},
   "source": [
    "### Ajuste Regresión"
   ]
  },
  {
   "cell_type": "code",
   "execution_count": null,
   "id": "31a9e5b0-c1d6-427d-a8b3-309bd3855a25",
   "metadata": {},
   "outputs": [],
   "source": [
    "import statsmodels.formula.api as smf\n",
    "\n",
    "from scipy import stats\n",
    "stats.chisqprob = lambda chisq, df: stats.chi2.sf(chisq, data)"
   ]
  },
  {
   "cell_type": "markdown",
   "id": "44dee706-7b2e-4a97-8ec1-916eb1b6c350",
   "metadata": {},
   "source": [
    "### Regresión Lineal"
   ]
  },
  {
   "cell_type": "code",
   "execution_count": null,
   "id": "19d3a5f0-2af3-4b38-a9d0-eb911961bb19",
   "metadata": {},
   "outputs": [],
   "source": [
    "formula_reg_lin = \"var_dep ~ var_indep_cuanti + C(var_indep_cuali)\"\n",
    "modelo_lin = smf.ols(formula_reg_lin, data).fit()\n",
    "modelo_lin.summary()"
   ]
  },
  {
   "cell_type": "markdown",
   "id": "7a01b432-3603-41fd-8d98-dbd3c2231239",
   "metadata": {},
   "source": [
    "### Regresión Logística"
   ]
  },
  {
   "cell_type": "code",
   "execution_count": null,
   "id": "42948376-30d6-4143-a092-0b2e14f10bae",
   "metadata": {},
   "outputs": [],
   "source": [
    "formula_reg_log = \"var_dep ~ var_indep_cuanti + C(var_indep_cuali)\"\n",
    "\n",
    "modelo_log = smf.logit(formula_reg_log, data).fit()\n",
    "modelo_log.summary()"
   ]
  },
  {
   "cell_type": "markdown",
   "id": "860ce1ee-d6d4-48bb-aa74-c08264d94074",
   "metadata": {},
   "source": [
    "### Test y Bivariantes"
   ]
  },
  {
   "cell_type": "code",
   "execution_count": null,
   "id": "3b9061d2-318a-4d83-97f9-90ec5e4a54c0",
   "metadata": {},
   "outputs": [],
   "source": [
    "from scipy.stats import ttest_ind\n",
    "data_grupo1 = data[data['var1'] == \"grupo1\"]['var2']\n",
    "data_grupo2 = data[data['var1'] == \"grupo2\"]['var2']"
   ]
  },
  {
   "cell_type": "code",
   "execution_count": null,
   "id": "26229aac-fe93-4e2c-8078-a8cf6d064dc4",
   "metadata": {},
   "outputs": [],
   "source": [
    "import statsmodels.formula.api as smf\n",
    "import statsmodels.api as sm\n",
    "formula_test = 'var1 ~ C(var2)'\n",
    "model_test = smf.ols(formula_test, data).fit()\n",
    "print(sm.stats.anova_lm(mode_test))"
   ]
  },
  {
   "cell_type": "code",
   "execution_count": null,
   "id": "5bd9e8a8-8f31-4883-a08f-6ae5548bf662",
   "metadata": {},
   "outputs": [],
   "source": [
    "from scipy.stats import chi2_contingency\n",
    "chi2_contingency(tabla_contingencia)"
   ]
  },
  {
   "cell_type": "code",
   "execution_count": null,
   "id": "c5e24229-500c-46d1-9137-a90f57439e3f",
   "metadata": {},
   "outputs": [],
   "source": [
    "sns.jointplot(data['var1'], data['var2'])"
   ]
  }
 ],
 "metadata": {
  "kernelspec": {
   "display_name": "Python 3 (ipykernel)",
   "language": "python",
   "name": "python3"
  },
  "language_info": {
   "codemirror_mode": {
    "name": "ipython",
    "version": 3
   },
   "file_extension": ".py",
   "mimetype": "text/x-python",
   "name": "python",
   "nbconvert_exporter": "python",
   "pygments_lexer": "ipython3",
   "version": "3.11.3"
  }
 },
 "nbformat": 4,
 "nbformat_minor": 5
}
