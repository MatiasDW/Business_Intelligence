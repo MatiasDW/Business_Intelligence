{
 "cells": [
  {
   "cell_type": "markdown",
   "id": "fcc64ebc-daac-4f60-8735-00ad21b255ef",
   "metadata": {},
   "source": [
    "Usted trabaja para una organización sin fines de lucro destinada a ayudar a las personas a tomar mejores decisiones financieras. Esta institución esta pasando por una transformación, bajo la cual se quiere llegar a un nivel donde se utilicen datos para conseguir Insights y tomar mejores decisiones. \n",
    "\n",
    "Por lo anterior, se le ha asignado la tarea de descubrir y validar cuales son los factores más relevantes a la hora de determinar si alguien recibirá o no un crédito. Ante esto usted recibe un comentario de su jefe, quien le menciona que tiene la hipótesis de que el evento de recibir una aceptación de crédito va ligado al hecho de estar soltero, trabajar dependientemente y vivir en un condominio.\n",
    "\n",
    "Para completar su informe\n",
    "* **Valide la hipótesis de su jefe:** Para esto asuma que los descriptivos ya se realizaron, replique la hipótesis utilizando alguno de los modelos válidos para este tipo de problema.\n",
    "* **Determine la calidad del modelo resultante basado en la hipótesis anterior**\n",
    "* **Responda la siguiente pregunta, ¿es posible crear un mejor modelo?, ¿qué cambios intentaría realizar?**\n",
    "* **Si considera que es posible, lleve a cabo su propuesta, partiendo desde la definición de hipótesis y compare con el modelo propuesto por su jefe (puede saltar EDA si lo considera oportuno).**"
   ]
  },
  {
   "cell_type": "code",
   "execution_count": null,
   "id": "e7fd307b-3b04-4760-a1f8-fde538386b95",
   "metadata": {},
   "outputs": [],
   "source": []
  }
 ],
 "metadata": {
  "kernelspec": {
   "display_name": "Python 3 (ipykernel)",
   "language": "python",
   "name": "python3"
  },
  "language_info": {
   "codemirror_mode": {
    "name": "ipython",
    "version": 3
   },
   "file_extension": ".py",
   "mimetype": "text/x-python",
   "name": "python",
   "nbconvert_exporter": "python",
   "pygments_lexer": "ipython3",
   "version": "3.11.3"
  }
 },
 "nbformat": 4,
 "nbformat_minor": 5
}
